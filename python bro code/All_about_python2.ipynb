{
 "cells": [
  {
   "cell_type": "markdown",
   "id": "36b4ebc2",
   "metadata": {},
   "source": [
    "# Video12: 12_Python email slicer exercise 📧"
   ]
  },
  {
   "cell_type": "code",
   "execution_count": 1,
   "id": "435292f6",
   "metadata": {},
   "outputs": [
    {
     "name": "stdout",
     "output_type": "stream",
     "text": [
      "Enter your email: pvuganeza@gmail.com\n",
      "Your username is pvuganeza and your domain is gmail.com \n"
     ]
    }
   ],
   "source": [
    "email = input(\"Enter your email: \")\n",
    "\n",
    "index = email.index(\"@\")\n",
    "username = email[:index]\n",
    "domain = email[index+1:]\n",
    "\n",
    "print(f\"Your username is {username} and your domain is {domain} \")"
   ]
  },
  {
   "cell_type": "markdown",
   "id": "835e6e8f",
   "metadata": {},
   "source": [
    "# Video13: 12_String indexing in Python is easy ✂️"
   ]
  },
  {
   "cell_type": "code",
   "execution_count": 2,
   "id": "e35d3f25",
   "metadata": {},
   "outputs": [
    {
     "name": "stdout",
     "output_type": "stream",
     "text": [
      "1\n",
      "1234\n",
      "1234\n",
      "-567\n",
      "-5678-9012-3456\n",
      "6\n",
      "3456\n",
      "13-6891-46\n",
      "146-136\n",
      "XXXX-XXXX-XXXX-3456\n",
      "6543-2109-8765-4321\n"
     ]
    }
   ],
   "source": [
    "#indexing = accessing elements of a sequence using [] (indexing operator)\n",
    "#[start : end : step]\n",
    "\n",
    "credit_number = \"1234-5678-9012-3456\"\n",
    "\n",
    "print(credit_number[0])\n",
    "print(credit_number[0:4])\n",
    "print(credit_number[:4])\n",
    "print(credit_number[4:8])\n",
    "print(credit_number[4:])\n",
    "print(credit_number[-1])\n",
    "print(credit_number[-4:])\n",
    "print(credit_number[::2])\n",
    "print(credit_number[::3])\n",
    "\n",
    "#EXERCISE 1\n",
    "credit_number = \"1234-5678-9012-3456\"\n",
    "last_digits = credit_number[-4:]\n",
    "print(f\"XXXX-XXXX-XXXX-{last_digits}\")\n",
    "\n",
    "#EXERCISE 2\n",
    "credit_number = \"1234-5678-9012-3456\"\n",
    "credit_number = credit_number[::-1]\n",
    "print(credit_number)"
   ]
  },
  {
   "cell_type": "markdown",
   "id": "f92edbda",
   "metadata": {},
   "source": [
    "# Video12: 12_String indexing in Python is easy ✂️"
   ]
  },
  {
   "cell_type": "markdown",
   "id": "5e4f8c1b",
   "metadata": {},
   "source": [
    "indexing = accessing elements of a sequence using [] (indexing operator)\n",
    "[start : end : step]"
   ]
  },
  {
   "cell_type": "code",
   "execution_count": 3,
   "id": "912cf0a3",
   "metadata": {},
   "outputs": [
    {
     "name": "stdout",
     "output_type": "stream",
     "text": [
      "1\n",
      "1234\n",
      "1234\n",
      "-567\n",
      "-5678-9012-3456\n",
      "6\n",
      "3456\n",
      "13-6891-46\n",
      "146-136\n"
     ]
    }
   ],
   "source": [
    "\n",
    "credit_number = \"1234-5678-9012-3456\"\n",
    "\n",
    "print(credit_number[0])\n",
    "print(credit_number[0:4])\n",
    "print(credit_number[:4])\n",
    "print(credit_number[4:8])\n",
    "print(credit_number[4:])\n",
    "print(credit_number[-1])\n",
    "print(credit_number[-4:])\n",
    "print(credit_number[::2])\n",
    "print(credit_number[::3])"
   ]
  },
  {
   "cell_type": "markdown",
   "id": "ef187780",
   "metadata": {},
   "source": [
    "# EXERCISE 1"
   ]
  },
  {
   "cell_type": "code",
   "execution_count": 5,
   "id": "c3995a36",
   "metadata": {},
   "outputs": [
    {
     "name": "stdout",
     "output_type": "stream",
     "text": [
      "XXXX-XXXX-XXXX-3456\n"
     ]
    }
   ],
   "source": [
    "credit_number = \"1234-5678-9012-3456\"\n",
    "last_digits = credit_number[-4:]\n",
    "print(f\"XXXX-XXXX-XXXX-{last_digits}\")"
   ]
  },
  {
   "cell_type": "markdown",
   "id": "f17e91d3",
   "metadata": {},
   "source": [
    "# EXERCISE 2"
   ]
  },
  {
   "cell_type": "code",
   "execution_count": 6,
   "id": "db26b9d4",
   "metadata": {},
   "outputs": [
    {
     "name": "stdout",
     "output_type": "stream",
     "text": [
      "6543-2109-8765-4321\n"
     ]
    }
   ],
   "source": [
    "credit_number = \"1234-5678-9012-3456\"\n",
    "credit_number = credit_number[::-1]\n",
    "print(credit_number)"
   ]
  },
  {
   "cell_type": "code",
   "execution_count": 15,
   "id": "66ac5616",
   "metadata": {},
   "outputs": [
    {
     "name": "stdout",
     "output_type": "stream",
     "text": [
      "Python for Engineers\n"
     ]
    }
   ],
   "source": [
    "course ='Python for Engineers'\n",
    "print(course[0:20:1])"
   ]
  },
  {
   "cell_type": "code",
   "execution_count": 17,
   "id": "85f49af5",
   "metadata": {},
   "outputs": [
    {
     "name": "stdout",
     "output_type": "stream",
     "text": [
      "sreenignE rof nohtyP\n"
     ]
    }
   ],
   "source": [
    "course ='Python for Engineers'\n",
    "print(course[::-1])"
   ]
  },
  {
   "cell_type": "code",
   "execution_count": null,
   "id": "d3da3d1d",
   "metadata": {},
   "outputs": [],
   "source": []
  },
  {
   "cell_type": "markdown",
   "id": "6e4b1cbc",
   "metadata": {},
   "source": [
    "# Video 14: 14_Format specifiers in Python are awesome 💬"
   ]
  },
  {
   "cell_type": "code",
   "execution_count": 1,
   "id": "4b0d5633",
   "metadata": {},
   "outputs": [
    {
     "name": "stdout",
     "output_type": "stream",
     "text": [
      "Price 1 is 3.14159\n",
      "Price 2 is -987.65\n",
      "Price 3 is 12.34\n"
     ]
    }
   ],
   "source": [
    "price1 = 3.14159\n",
    "price2 = -987.65\n",
    "price3 = 12.34\n",
    "\n",
    "print(f\"Price 1 is {price1}\")\n",
    "print(f\"Price 2 is {price2}\")\n",
    "print(f\"Price 3 is {price3}\")\n"
   ]
  },
  {
   "cell_type": "code",
   "execution_count": 5,
   "id": "cdafb475",
   "metadata": {},
   "outputs": [
    {
     "name": "stdout",
     "output_type": "stream",
     "text": [
      "Price 1 is $3.14\n",
      "Price 2 is $-987.65\n",
      "Price 3 is $12.34\n"
     ]
    }
   ],
   "source": [
    "# format specifier\n",
    "print(f\"Price 1 is ${price1:.2f}\")# we want two floating numbers \n",
    "print(f\"Price 2 is ${price2:.2f}\")\n",
    "print(f\"Price 3 is ${price3:.2f}\")"
   ]
  },
  {
   "cell_type": "code",
   "execution_count": 6,
   "id": "7dabe11e",
   "metadata": {},
   "outputs": [
    {
     "name": "stdout",
     "output_type": "stream",
     "text": [
      "Price 1 is $3.142\n",
      "Price 2 is $-987.650\n",
      "Price 3 is $12.340\n"
     ]
    }
   ],
   "source": [
    "# format specifier\n",
    "print(f\"Price 1 is ${price1:.3f}\")# Three decimal places \n",
    "print(f\"Price 2 is ${price2:.3f}\")\n",
    "print(f\"Price 3 is ${price3:.3f}\")"
   ]
  },
  {
   "cell_type": "code",
   "execution_count": 7,
   "id": "09f0ef97",
   "metadata": {},
   "outputs": [
    {
     "name": "stdout",
     "output_type": "stream",
     "text": [
      "Price 1 is $   3.14159\n",
      "Price 2 is $   -987.65\n",
      "Price 3 is $     12.34\n"
     ]
    }
   ],
   "source": [
    "# format specifier\n",
    "print(f\"Price 1 is ${price1:10}\")#Allocating space \n",
    "print(f\"Price 2 is ${price2:10}\")\n",
    "print(f\"Price 3 is ${price3:10}\")"
   ]
  },
  {
   "cell_type": "code",
   "execution_count": 8,
   "id": "1f3db0a8",
   "metadata": {},
   "outputs": [
    {
     "name": "stdout",
     "output_type": "stream",
     "text": [
      "Price 1 is $0003.14159\n",
      "Price 2 is $-000987.65\n",
      "Price 3 is $0000012.34\n"
     ]
    }
   ],
   "source": [
    "# format specifier: to represent the above spaces with zeros, we add zero before 10\n",
    "print(f\"Price 1 is ${price1:010}\")#Allocating space \n",
    "print(f\"Price 2 is ${price2:010}\")\n",
    "print(f\"Price 3 is ${price3:010}\")"
   ]
  },
  {
   "cell_type": "code",
   "execution_count": 9,
   "id": "b705b844",
   "metadata": {},
   "outputs": [
    {
     "name": "stdout",
     "output_type": "stream",
     "text": [
      "Price 1 is $3.14159   \n",
      "Price 2 is $-987.65   \n",
      "Price 3 is $12.34     \n"
     ]
    }
   ],
   "source": [
    "# LEFT JUSTIFY: We add this sign <\n",
    "\n",
    "# format specifier: to represent the above spaces with zeros, we add zero before 10\n",
    "print(f\"Price 1 is ${price1:<10}\")#Allocating space \n",
    "print(f\"Price 2 is ${price2:<10}\")\n",
    "print(f\"Price 3 is ${price3:<10}\")"
   ]
  },
  {
   "cell_type": "code",
   "execution_count": 12,
   "id": "d0b99437",
   "metadata": {},
   "outputs": [
    {
     "name": "stdout",
     "output_type": "stream",
     "text": [
      "Price 1 is $   3.14159\n",
      "Price 2 is $   -987.65\n",
      "Price 3 is $     12.34\n"
     ]
    }
   ],
   "source": [
    "# RIGHT JUSTIFY: use >: This is used by default \n",
    "\n",
    "# format specifier: to represent the above spaces with zeros, we add zero before 10\n",
    "print(f\"Price 1 is ${price1:>10}\")#Allocating space \n",
    "print(f\"Price 2 is ${price2:>10}\")\n",
    "print(f\"Price 3 is ${price3:>10}\")"
   ]
  },
  {
   "cell_type": "code",
   "execution_count": 13,
   "id": "18d182ab",
   "metadata": {},
   "outputs": [
    {
     "name": "stdout",
     "output_type": "stream",
     "text": [
      "Price 1 is $3.14159000\n",
      "Price 2 is $-987.65000\n",
      "Price 3 is $12.3400000\n"
     ]
    }
   ],
   "source": [
    "# format specifier: to represent the above spaces with zeros, we add zero before 10\n",
    "print(f\"Price 1 is ${price1:<010}\")#Allocating space \n",
    "print(f\"Price 2 is ${price2:<010}\")\n",
    "print(f\"Price 3 is ${price3:<010}\")"
   ]
  },
  {
   "cell_type": "code",
   "execution_count": 14,
   "id": "0c16b7d9",
   "metadata": {},
   "outputs": [
    {
     "name": "stdout",
     "output_type": "stream",
     "text": [
      "Price 1 is $ 3.14159  \n",
      "Price 2 is $ -987.65  \n",
      "Price 3 is $  12.34   \n"
     ]
    }
   ],
   "source": [
    "# CENTRAL LINE: USE ^\n",
    "\n",
    "\n",
    "# format specifier: to represent the above spaces with zeros, we add zero before 10\n",
    "print(f\"Price 1 is ${price1:^10}\")#Allocating space \n",
    "print(f\"Price 2 is ${price2:^10}\")\n",
    "print(f\"Price 3 is ${price3:^10}\")"
   ]
  },
  {
   "cell_type": "code",
   "execution_count": 15,
   "id": "4c9d728b",
   "metadata": {},
   "outputs": [
    {
     "name": "stdout",
     "output_type": "stream",
     "text": [
      "Price 1 is $+3.14159\n",
      "Price 2 is $-987.65\n",
      "Price 3 is $+12.34\n"
     ]
    }
   ],
   "source": [
    "# Representing a number with a sign + for a positive number and - for a negative number\n",
    "\n",
    "print(f\"Price 1 is ${price1:+}\")\n",
    "print(f\"Price 2 is ${price2:+}\")\n",
    "print(f\"Price 3 is ${price3:+}\")"
   ]
  },
  {
   "cell_type": "code",
   "execution_count": 16,
   "id": "c4164714",
   "metadata": {},
   "outputs": [
    {
     "name": "stdout",
     "output_type": "stream",
     "text": [
      "Price 1 is $3.14159\n",
      "Price 2 is $-987.65\n",
      "Price 3 is $12.34\n"
     ]
    }
   ],
   "source": [
    "# Representing a number with a sign + for a positive number and - for a negative number\n",
    "\n",
    "print(f\"Price 1 is ${price1:-}\")\n",
    "print(f\"Price 2 is ${price2:-}\")\n",
    "print(f\"Price 3 is ${price3:-}\")"
   ]
  },
  {
   "cell_type": "code",
   "execution_count": 18,
   "id": "841dc339",
   "metadata": {},
   "outputs": [
    {
     "name": "stdout",
     "output_type": "stream",
     "text": [
      "Price 1 is $ 3.14159\n",
      "Price 2 is $-987.65\n",
      "Price 3 is $ 12.34\n"
     ]
    }
   ],
   "source": [
    "# separating with a space for positive numbers\n",
    "print(f\"Price 1 is ${price1: }\")\n",
    "print(f\"Price 2 is ${price2: }\")\n",
    "print(f\"Price 3 is ${price3: }\")"
   ]
  },
  {
   "cell_type": "code",
   "execution_count": 20,
   "id": "27c0ce77",
   "metadata": {},
   "outputs": [
    {
     "name": "stdout",
     "output_type": "stream",
     "text": [
      "Price 1 is $3,000.14159\n",
      "Price 2 is $-9,870.65\n",
      "Price 3 is $1,200.14\n"
     ]
    }
   ],
   "source": [
    "# comma separator\n",
    "\n",
    "price4 = 3000.14159\n",
    "price5 = -9870.65\n",
    "price6 = 1200.14\n",
    "\n",
    "print(f\"Price 1 is ${price4:,}\")\n",
    "print(f\"Price 2 is ${price5:,}\")\n",
    "print(f\"Price 3 is ${price6:,}\")"
   ]
  },
  {
   "cell_type": "code",
   "execution_count": 21,
   "id": "f62fec8c",
   "metadata": {},
   "outputs": [
    {
     "name": "stdout",
     "output_type": "stream",
     "text": [
      "Price 1 is $+3.14\n",
      "Price 2 is $-987.65\n",
      "Price 3 is $+12.34\n"
     ]
    }
   ],
   "source": [
    "# you can combine more: preceeding with a + sign, comma separator and two decimal places\n",
    "\n",
    "print(f\"Price 1 is ${price1:+,.2f}\")\n",
    "print(f\"Price 2 is ${price2:+,.2f}\")\n",
    "print(f\"Price 3 is ${price3:+,.2f}\")"
   ]
  },
  {
   "cell_type": "code",
   "execution_count": 23,
   "id": "96f73b74",
   "metadata": {},
   "outputs": [
    {
     "ename": "ValueError",
     "evalue": "Invalid format specifier ',+.2f' for object of type 'float'",
     "output_type": "error",
     "traceback": [
      "\u001b[1;31m---------------------------------------------------------------------------\u001b[0m",
      "\u001b[1;31mValueError\u001b[0m                                Traceback (most recent call last)",
      "Cell \u001b[1;32mIn[23], line 1\u001b[0m\n\u001b[1;32m----> 1\u001b[0m \u001b[38;5;28mprint\u001b[39m(\u001b[38;5;124mf\u001b[39m\u001b[38;5;124m\"\u001b[39m\u001b[38;5;124mPrice 1 is $\u001b[39m\u001b[38;5;132;01m{\u001b[39;00mprice1\u001b[38;5;132;01m:\u001b[39;00m\u001b[38;5;124m,+.2f\u001b[39m\u001b[38;5;132;01m}\u001b[39;00m\u001b[38;5;124m\"\u001b[39m)\n\u001b[0;32m      2\u001b[0m \u001b[38;5;28mprint\u001b[39m(\u001b[38;5;124mf\u001b[39m\u001b[38;5;124m\"\u001b[39m\u001b[38;5;124mPrice 2 is $\u001b[39m\u001b[38;5;132;01m{\u001b[39;00mprice2\u001b[38;5;132;01m:\u001b[39;00m\u001b[38;5;124m,+.2f\u001b[39m\u001b[38;5;132;01m}\u001b[39;00m\u001b[38;5;124m\"\u001b[39m)\n\u001b[0;32m      3\u001b[0m \u001b[38;5;28mprint\u001b[39m(\u001b[38;5;124mf\u001b[39m\u001b[38;5;124m\"\u001b[39m\u001b[38;5;124mPrice 3 is $\u001b[39m\u001b[38;5;132;01m{\u001b[39;00mprice3\u001b[38;5;132;01m:\u001b[39;00m\u001b[38;5;124m,+.2f\u001b[39m\u001b[38;5;132;01m}\u001b[39;00m\u001b[38;5;124m\"\u001b[39m)\n",
      "\u001b[1;31mValueError\u001b[0m: Invalid format specifier ',+.2f' for object of type 'float'"
     ]
    }
   ],
   "source": [
    "print(f\"Price 1 is ${price1:,+.2f}\")\n",
    "print(f\"Price 2 is ${price2:,+.2f}\")\n",
    "print(f\"Price 3 is ${price3:,+.2f}\")"
   ]
  },
  {
   "cell_type": "markdown",
   "id": "279f0ff2",
   "metadata": {},
   "source": [
    "# Video15: 15_While loops in Python are easy ♾️"
   ]
  },
  {
   "cell_type": "code",
   "execution_count": 25,
   "id": "1f36811c",
   "metadata": {},
   "outputs": [
    {
     "name": "stdout",
     "output_type": "stream",
     "text": [
      "Enter your name: \n",
      "You did not enter your name\n"
     ]
    }
   ],
   "source": [
    "name = input(\"Enter your name: \")\n",
    "\n",
    "if name == \"\":\n",
    "    print(\"You did not enter your name\")\n",
    "else:\n",
    "    print(f\"Your name is :{name}\")\n"
   ]
  },
  {
   "cell_type": "code",
   "execution_count": 26,
   "id": "562a92c4",
   "metadata": {},
   "outputs": [
    {
     "name": "stdout",
     "output_type": "stream",
     "text": [
      "You did not enter your name\n",
      "Enter your name: \n",
      "You did not enter your name\n",
      "Enter your name: \n",
      "You did not enter your name\n",
      "Enter your name: Patrice\n",
      "Hello Patrice\n"
     ]
    }
   ],
   "source": [
    "# What if I want to continually prompt the user to enter the name\n",
    "while name == \"\":\n",
    "    print(\"You did not enter your name\")\n",
    "    name = input(\"Enter your name: \")\n",
    "    \n",
    "print(f\"Hello {name}\")\n",
    "    \n",
    "    \n",
    "    "
   ]
  },
  {
   "cell_type": "code",
   "execution_count": 27,
   "id": "99900289",
   "metadata": {},
   "outputs": [
    {
     "name": "stdout",
     "output_type": "stream",
     "text": [
      "Enter your Age: -1\n",
      "Age can't be negative\n",
      "Enter your Age: -12\n",
      "Age can't be negative\n",
      "Enter your Age: 5\n",
      "You are 5 years old\n"
     ]
    }
   ],
   "source": [
    "# An other example\n",
    "age = int(input(\"Enter your Age: \"))\n",
    "\n",
    "while age < 0:\n",
    "    print(\"Age can't be negative\")\n",
    "    age = int(input(\"Enter your Age: \"))\n",
    "    \n",
    "print(f\"You are {age} years old\")"
   ]
  },
  {
   "cell_type": "code",
   "execution_count": 1,
   "id": "631c644a",
   "metadata": {},
   "outputs": [
    {
     "name": "stdout",
     "output_type": "stream",
     "text": [
      "Enter a food you like(press Q to quit): pizza\n",
      "You like pizza\n",
      "Enter another food you like (press q to quit): carot\n",
      "You like carot\n",
      "Enter another food you like (press q to quit): amazi\n",
      "You like amazi\n",
      "Enter another food you like (press q to quit): imiravumba\n",
      "You like imiravumba\n",
      "Enter another food you like (press q to quit): q\n",
      "Bye\n"
     ]
    }
   ],
   "source": [
    "# gggg\n",
    "\n",
    "food = input(\"Enter a food you like(press Q to quit): \")\n",
    "\n",
    "while not (food.lower() == \"q\"):\n",
    "    print(f\"You like {food}\")\n",
    "    food = input(\"Enter another food you like (press q to quit): \")\n",
    "print(\"Bye\")"
   ]
  },
  {
   "cell_type": "code",
   "execution_count": null,
   "id": "7bed06e5",
   "metadata": {},
   "outputs": [],
   "source": [
    "# We will ask to type in number between 1 and 10\n",
    "\n",
    "num = int(input(\" Enter a number between 1-10: \"))\n",
    "\n",
    "while num <1 or num > 10:\n",
    "    print(f\"{num} is not valid. Enter number between 1-10!!\")\n",
    "    num = int(input(\" Enter a number between 1-10: \"))\n",
    "    \n",
    "print(f\"Your number is {num}\")\n",
    "    "
   ]
  },
  {
   "cell_type": "markdown",
   "id": "c4f681c6",
   "metadata": {},
   "source": [
    "# VIDEO !: 16_For loops in Python are easy 🔁"
   ]
  },
  {
   "cell_type": "code",
   "execution_count": null,
   "id": "b4496c9d",
   "metadata": {},
   "outputs": [],
   "source": [
    "\n",
    "# for loops = execute a block of code a fixed number of times.\n",
    "# You can iterate over a range, string, sequence, etc.\n",
    "\n",
    "# --------------- EXAMPLE 1 ---------------\n",
    "\n",
    "for x in range(1, 11):\n",
    "    print(x)\n",
    "\n",
    "# --------------- EXAMPLE 2 ---------------\n",
    "\n",
    "for x in reversed(range(1, 11)):\n",
    "    print(x)\n",
    "\n",
    "print(\"Happy New Year!\")\n",
    "\n",
    "# --------------- EXAMPLE 3 ---------------\n",
    "\n",
    "for x in range(1, 11, 2):\n",
    "    print(x)\n",
    "\n",
    "# --------------- EXAMPLE 4 ---------------\n",
    "\n",
    "credit_card = \"1234-5678-9012-3456\"\n",
    "\n",
    "for x in credit_card:\n",
    "    print(x)\n",
    "\n",
    "# --------------- CONTINUE ---------------\n",
    "\n",
    "for x in range(1, 21):\n",
    "    if x == 13:\n",
    "        continue\n",
    "    else:\n",
    "        print(x)\n",
    "# --------------- BREAK ---------------\n",
    "\n",
    "for x in range(1, 21):\n",
    "    if x == 13:\n",
    "        break\n",
    "    else:\n",
    "        print(x)"
   ]
  },
  {
   "cell_type": "code",
   "execution_count": 2,
   "id": "057055b4",
   "metadata": {},
   "outputs": [
    {
     "name": "stdout",
     "output_type": "stream",
     "text": [
      "10\n",
      "9\n",
      "8\n",
      "7\n",
      "6\n",
      "5\n",
      "4\n",
      "3\n",
      "2\n",
      "1\n",
      "Happy New Year!\n"
     ]
    }
   ],
   "source": [
    "for x in reversed(range(1, 11)):\n",
    "    print(x)\n",
    "\n",
    "print(\"Happy New Year!\")"
   ]
  },
  {
   "cell_type": "code",
   "execution_count": 3,
   "id": "e25f98bd",
   "metadata": {},
   "outputs": [
    {
     "name": "stdout",
     "output_type": "stream",
     "text": [
      "1\n",
      "2\n",
      "3\n",
      "4\n",
      "5\n",
      "6\n",
      "7\n",
      "8\n",
      "9\n",
      "10\n",
      "11\n",
      "12\n",
      "14\n",
      "15\n",
      "16\n",
      "17\n",
      "18\n",
      "19\n",
      "20\n"
     ]
    }
   ],
   "source": [
    "# --------------- CONTINUE ---------------\n",
    "\n",
    "for x in range(1, 21):\n",
    "    if x == 13:\n",
    "        continue\n",
    "    else:\n",
    "        print(x)"
   ]
  },
  {
   "cell_type": "code",
   "execution_count": 4,
   "id": "d3ebf979",
   "metadata": {},
   "outputs": [
    {
     "name": "stdout",
     "output_type": "stream",
     "text": [
      "1\n",
      "2\n",
      "3\n",
      "4\n",
      "5\n",
      "6\n",
      "7\n",
      "8\n",
      "9\n",
      "10\n",
      "11\n",
      "12\n"
     ]
    }
   ],
   "source": [
    "# --------------- BREAK ---------------\n",
    "\n",
    "for x in range(1, 21):\n",
    "    if x == 13:\n",
    "        break\n",
    "    else:\n",
    "        print(x)"
   ]
  },
  {
   "cell_type": "markdown",
   "id": "e8321829",
   "metadata": {},
   "source": [
    "# VIDEO 17: 17_Python compound interest calculator 💰"
   ]
  },
  {
   "cell_type": "code",
   "execution_count": 9,
   "id": "d7878344",
   "metadata": {},
   "outputs": [
    {
     "name": "stdout",
     "output_type": "stream",
     "text": [
      "Enter the principle amount: -1200\n",
      "Principle can't be less than or equal to zero\n",
      "Enter the principle amount: 1200\n",
      "Principle can't be less than or equal to zero\n",
      "Here is your principle: 1200.0\n"
     ]
    }
   ],
   "source": [
    "principle = 0 # initial amount\n",
    "rate = 0\n",
    "time = 0\n",
    "\n",
    "while principle <= 0:\n",
    "    principle = float(input(\"Enter the principle amount: \"))\n",
    "    print(\"Principle can't be less than or equal to zero\")\n",
    "    \n",
    "print(f\"Here is your principle: {principle}\")"
   ]
  },
  {
   "cell_type": "code",
   "execution_count": 12,
   "id": "d52c484a",
   "metadata": {},
   "outputs": [
    {
     "name": "stdout",
     "output_type": "stream",
     "text": [
      "Enter the principle amount: 15000\n",
      "Enter the interest rate: 0.4\n",
      "Enter the time in years: 7\n",
      " Principle: 15000.0\n",
      " Rate: 0.4\n",
      " Time: 7 years\n"
     ]
    }
   ],
   "source": [
    "principle = 0 # initial amount\n",
    "rate = 0\n",
    "time = 0\n",
    "\n",
    "while principle <= 0:\n",
    "    principle = float(input(\"Enter the principle amount: \"))\n",
    "    if principle<= 0:\n",
    "        print(\"Principle can't be less than or equal to zero\")\n",
    "        \n",
    "while rate <= 0:\n",
    "    rate = float(input(\"Enter the interest rate: \"))\n",
    "    if rate <= 0:\n",
    "        print(\"Interest rate can't be less than or equal to zero\")\n",
    "        \n",
    "while time <= 0:\n",
    "    time = int(input(\"Enter the time in years: \"))\n",
    "    if time <= 0:\n",
    "        print(\" Time can't be less than or equal to zero\")\n",
    "        \n",
    "    \n",
    "print(f\" Principle: {principle}\")\n",
    "print(f\" Rate: {rate}\")\n",
    "print(f\" Time: {time} years\")\n",
    "\n",
    "\n"
   ]
  },
  {
   "attachments": {
    "image.png": {
     "image/png": "[encoded data removed]"
    }
   },
   "cell_type": "markdown",
   "id": "0a67e78c",
   "metadata": {},
   "source": [
    "# Formula: ![image.png](attachment:image.png)"
   ]
  },
  {
   "cell_type": "code",
   "execution_count": 13,
   "id": "babefca6",
   "metadata": {},
   "outputs": [
    {
     "name": "stdout",
     "output_type": "stream",
     "text": [
      "Balance after 7 Year/s: $15425.07\n"
     ]
    }
   ],
   "source": [
    "Total = principle * pow((1+rate/100), time)\n",
    "\n",
    "print(f\"Balance after {time} Year/s: ${Total:.2f}\")"
   ]
  },
  {
   "cell_type": "code",
   "execution_count": 14,
   "id": "8f2435cf",
   "metadata": {},
   "outputs": [
    {
     "name": "stdout",
     "output_type": "stream",
     "text": [
      "Enter the principle amount: 1000\n",
      "Enter the interest rate: 10\n",
      "Enter the time in years: 1\n",
      "Balance after 1 Year/s: $1100.00\n"
     ]
    }
   ],
   "source": [
    "principle = 0 # initial amount\n",
    "rate = 0\n",
    "time = 0\n",
    "\n",
    "while principle <= 0:\n",
    "    principle = float(input(\"Enter the principle amount: \"))\n",
    "    if principle<= 0:\n",
    "        print(\"Principle can't be less than or equal to zero\")\n",
    "        \n",
    "while rate <= 0:\n",
    "    rate = float(input(\"Enter the interest rate: \"))\n",
    "    if rate <= 0:\n",
    "        print(\"Interest rate can't be less than or equal to zero\")\n",
    "        \n",
    "while time <= 0:\n",
    "    time = int(input(\"Enter the time in years: \"))\n",
    "    if time <= 0:\n",
    "        print(\" Time can't be less than or equal to zero\")\n",
    "        \n",
    "Total = principle * pow((1+rate/100), time)\n",
    "\n",
    "print(f\"Balance after {time} Year/s: ${Total:.2f}\")\n"
   ]
  },
  {
   "cell_type": "code",
   "execution_count": 22,
   "id": "c9fb62cc",
   "metadata": {},
   "outputs": [
    {
     "name": "stdout",
     "output_type": "stream",
     "text": [
      "Balance after 0 Year/s: $0.00\n"
     ]
    }
   ],
   "source": [
    "#  When we want the user to enter 0 values , we need to change the loop little bit\n",
    "\n",
    "principle = 0 # initial amount\n",
    "rate = 0\n",
    "time = 0\n",
    "\n",
    "while principle < 0:\n",
    "    principle = float(input(\"Enter the principle amount: \"))\n",
    "    if principle < 0:\n",
    "        print(\"Principle can't be less than  zero\")\n",
    "        \n",
    "while rate < 0:\n",
    "    rate = float(input(\"Enter the interest rate: \"))\n",
    "    if rate < 0:\n",
    "        print(\"Interest rate can't be less than  zero\")\n",
    "        \n",
    "while time < 0:\n",
    "    time = int(input(\"Enter the time in years: \"))\n",
    "    if time < 0:\n",
    "        print(\" Time can't be less than zero\")\n",
    "        \n",
    "Total = principle * pow((1+rate/100), time)\n",
    "\n",
    "print(f\"Balance after {time} Year/s: ${Total:.2f}\")"
   ]
  },
  {
   "cell_type": "code",
   "execution_count": 25,
   "id": "28b5da05",
   "metadata": {},
   "outputs": [
    {
     "name": "stdout",
     "output_type": "stream",
     "text": [
      "Enter the principle amount: -45\n",
      "Principle can't be less than  zero\n",
      "Enter the principle amount: 78\n",
      "Enter the interest rate: 23\n",
      "Enter the time in years: 4\n",
      "Balance after 4 Year/s: $178.53\n"
     ]
    }
   ],
   "source": [
    "principle = 0 # initial amount\n",
    "rate = 0\n",
    "time = 0\n",
    "\n",
    "while True:\n",
    "    principle = float(input(\"Enter the principle amount: \"))\n",
    "    if principle< 0:\n",
    "        print(\"Principle can't be less than  zero\")\n",
    "    else:\n",
    "        break\n",
    "        \n",
    "while True:\n",
    "    rate = float(input(\"Enter the interest rate: \"))\n",
    "    if rate < 0:\n",
    "        print(\"Interest rate can't be less than  zero\")\n",
    "    else:\n",
    "        break    \n",
    "        \n",
    "        \n",
    "while True:\n",
    "    time = int(input(\"Enter the time in years: \"))\n",
    "    if time < 0:\n",
    "        print(\" Time can't be less than  zero\")\n",
    "\n",
    "    else:\n",
    "        break\n",
    "        \n",
    "Total = principle * pow((1+rate/100), time)\n",
    "\n",
    "print(f\"Balance after {time} Year/s: ${Total:.2f}\")"
   ]
  },
  {
   "cell_type": "markdown",
   "id": "1b2a34eb",
   "metadata": {},
   "source": [
    "# Video 18: 18_Nested loops in Python are easy ➿"
   ]
  },
  {
   "cell_type": "code",
   "execution_count": 26,
   "id": "4a236da2",
   "metadata": {},
   "outputs": [
    {
     "name": "stdout",
     "output_type": "stream",
     "text": [
      "Enter the # of rows: 5\n",
      "Enter the # of columns: 3\n",
      "Enter a symbol to use: *\n",
      "***\n",
      "***\n",
      "***\n",
      "***\n",
      "***\n"
     ]
    }
   ],
   "source": [
    "# nested loop = A loop within another loop (outer, inner)\n",
    "# outer loop:\n",
    "# inner loop:\n",
    "\n",
    "rows = int(input(\"Enter the # of rows: \"))\n",
    "columns = int(input(\"Enter the # of columns: \"))\n",
    "symbol = input(\"Enter a symbol to use: \")\n",
    "\n",
    "for x in range(rows):\n",
    "    for y in range(columns):\n",
    "        print(symbol, end=\"\")\n",
    "    print()"
   ]
  },
  {
   "cell_type": "code",
   "execution_count": 3,
   "id": "46f2946e",
   "metadata": {},
   "outputs": [
    {
     "name": "stdout",
     "output_type": "stream",
     "text": [
      "1\n",
      "2\n",
      "3\n",
      "4\n",
      "5\n",
      "6\n",
      "7\n",
      "8\n",
      "9\n"
     ]
    }
   ],
   "source": [
    "# By default, parameter takes\\n==> new line\n",
    "for i in range(1,10):\n",
    "    print(i)"
   ]
  },
  {
   "cell_type": "code",
   "execution_count": 4,
   "id": "6231f3fa",
   "metadata": {},
   "outputs": [
    {
     "name": "stdout",
     "output_type": "stream",
     "text": [
      "1\n",
      "2\n",
      "3\n",
      "4\n",
      "5\n",
      "6\n",
      "7\n",
      "8\n",
      "9\n"
     ]
    }
   ],
   "source": [
    "for i in range(1,10):\n",
    "    print(i, end=\"\\n\")"
   ]
  },
  {
   "cell_type": "code",
   "execution_count": 2,
   "id": "e74c733d",
   "metadata": {},
   "outputs": [
    {
     "name": "stdout",
     "output_type": "stream",
     "text": [
      "123456789"
     ]
    }
   ],
   "source": [
    "rows1 =7\n",
    "columns1 = 5\n",
    "symbol1 = \"*\"\n",
    "\n",
    "for i in range(1,10):\n",
    "    print(i, end=\"\")"
   ]
  },
  {
   "cell_type": "code",
   "execution_count": 5,
   "id": "8c0e4990",
   "metadata": {},
   "outputs": [
    {
     "name": "stdout",
     "output_type": "stream",
     "text": [
      "1**2**3**4**5**6**7**8**9**"
     ]
    }
   ],
   "source": [
    "for i in range(1,10):\n",
    "    print(i, end=\"**\")"
   ]
  },
  {
   "cell_type": "code",
   "execution_count": 9,
   "id": "6a3d2a6c",
   "metadata": {},
   "outputs": [
    {
     "name": "stdout",
     "output_type": "stream",
     "text": [
      "* * * * * * * * * 1\n",
      "* * * * * * * * * 2\n",
      "* * * * * * * * * 3\n",
      "* * * * * * * * * 4\n",
      "* * * * * * * * * 5\n",
      "* * * * * * * * * 6\n",
      "* * * * * * * * * 7\n",
      "* * * * * * * * * 8\n",
      "* * * * * * * * * 9\n"
     ]
    }
   ],
   "source": [
    "for i in range(1,10):\n",
    "#     print(i, end=\"\\n\")\n",
    "    for j in range(1,10):\n",
    "        print(\"*\",end=\" \")\n",
    "    print(i, end=\"\\n\")"
   ]
  },
  {
   "cell_type": "code",
   "execution_count": 16,
   "id": "de90f54b",
   "metadata": {},
   "outputs": [
    {
     "name": "stdout",
     "output_type": "stream",
     "text": [
      "* * * * * \n",
      "\n",
      "* * * * * \n",
      "\n",
      "* * * * * \n",
      "\n",
      "* * * * * \n",
      "\n",
      "* * * * * \n",
      "\n",
      "* * * * * \n",
      "\n",
      "* * * * * \n",
      "\n",
      "* * * * * \n",
      "\n"
     ]
    }
   ],
   "source": [
    "# rows = int(input(\"Enter the # of rows: \"))\n",
    "# columns = int(input(\"Enter the # of columns: \"))\n",
    "# symbol = input(\"Enter a symbol to use: \")\n",
    "rows1 =7\n",
    "row = 0\n",
    "columns1 = 5\n",
    "symbol1 = \"*\"\n",
    "while row <= rows1:\n",
    "    for column1 in range(1,columns1+1):\n",
    "        print(\"*\", end=\" \")\n",
    "        \n",
    "    row =row+1\n",
    "    print(\"\\n\")\n",
    "        "
   ]
  },
  {
   "cell_type": "code",
   "execution_count": 17,
   "id": "90d038cb",
   "metadata": {},
   "outputs": [
    {
     "name": "stdout",
     "output_type": "stream",
     "text": [
      "* * * * * * \n",
      "\n",
      "* * * * * * \n",
      "\n",
      "* * * * * * \n",
      "\n",
      "* * * * * * \n",
      "\n",
      "* * * * * * \n",
      "\n",
      "* * * * * * \n",
      "\n",
      "* * * * * * \n",
      "\n",
      "* * * * * * \n",
      "\n"
     ]
    }
   ],
   "source": [
    "rows1 =7\n",
    "row = 0\n",
    "columns1 = 5\n",
    "symbol1 = \"*\"\n",
    "while row <= rows1:\n",
    "    col =0\n",
    "    while col <=columns1:\n",
    "        print(\"*\", end=\" \")\n",
    "        col +=1\n",
    "        \n",
    "    row =row+1\n",
    "    print(\"\\n\")"
   ]
  },
  {
   "cell_type": "markdown",
   "id": "09856d79",
   "metadata": {},
   "source": [
    "# Video 19: 19_Countdown timer program in Python ⌛"
   ]
  },
  {
   "cell_type": "code",
   "execution_count": 6,
   "id": "d09855f4",
   "metadata": {},
   "outputs": [
    {
     "name": "stdout",
     "output_type": "stream",
     "text": [
      "Enter the time in seconds: 6\n",
      "00:00:06\n",
      "00:00:05\n",
      "00:00:04\n",
      "00:00:03\n",
      "00:00:02\n",
      "00:00:01\n",
      "TIME'S UP!\n"
     ]
    }
   ],
   "source": [
    "#python #tutorial #course\n",
    "\n",
    "import time\n",
    "\n",
    "my_time = int(input(\"Enter the time in seconds: \"))\n",
    "\n",
    "for x in range(my_time, 0, -1):\n",
    "    seconds = x % 60\n",
    "    minutes = int(x / 60) % 60\n",
    "    hours = int(x / 3600)\n",
    "    print(f\"{hours:02}:{minutes:02}:{seconds:02}\")\n",
    "    time.sleep(1)\n",
    "\n",
    "print(\"TIME'S UP!\")"
   ]
  },
  {
   "cell_type": "code",
   "execution_count": 7,
   "id": "02cd14ee",
   "metadata": {},
   "outputs": [
    {
     "name": "stdout",
     "output_type": "stream",
     "text": [
      "Start\n",
      "End\n"
     ]
    }
   ],
   "source": [
    "# time.slee()# This will let the program sleep for some seconds\n",
    "\n",
    "print(\"Start\")\n",
    "time.sleep(3) # Wait for three seconds to print \"End\" \n",
    "\n",
    "print(\"End\")\n"
   ]
  },
  {
   "cell_type": "code",
   "execution_count": 9,
   "id": "6a2cc36c",
   "metadata": {},
   "outputs": [
    {
     "name": "stdout",
     "output_type": "stream",
     "text": [
      "Enter time in seconds: 6\n",
      "0\n",
      "1\n",
      "2\n",
      "3\n",
      "4\n",
      "5\n"
     ]
    }
   ],
   "source": [
    "my_time_in_seconds = int(input(\"Enter time in seconds: \"))\n",
    "\n",
    "for my_timee in range(0,my_time_in_seconds):\n",
    "    print(my_timee)\n",
    "    time.sleep(1)  # Counter"
   ]
  },
  {
   "cell_type": "code",
   "execution_count": 10,
   "id": "614a4b47",
   "metadata": {},
   "outputs": [
    {
     "name": "stdout",
     "output_type": "stream",
     "text": [
      "5\n",
      "4\n",
      "3\n",
      "2\n",
      "1\n",
      "0\n"
     ]
    }
   ],
   "source": [
    "# Counting in reverse\n",
    "\n",
    "\n",
    "for my_timee in reversed(range(0,my_time_in_seconds)):\n",
    "    print(my_timee)\n",
    "    time.sleep(1)  # Counter"
   ]
  },
  {
   "cell_type": "code",
   "execution_count": 11,
   "id": "40ebbeb3",
   "metadata": {},
   "outputs": [
    {
     "name": "stdout",
     "output_type": "stream",
     "text": [
      "6\n",
      "5\n",
      "4\n",
      "3\n",
      "2\n",
      "1\n"
     ]
    }
   ],
   "source": [
    "\n",
    "for my_timee in range(my_time_in_seconds,0,-1):\n",
    "    print(my_timee)\n",
    "    time.sleep(1)  # Counter"
   ]
  },
  {
   "cell_type": "code",
   "execution_count": 16,
   "id": "4b7c4800",
   "metadata": {},
   "outputs": [
    {
     "name": "stdout",
     "output_type": "stream",
     "text": [
      "6\n",
      "7\n",
      "8\n",
      "9\n",
      "10\n",
      "range(2, 1)\n"
     ]
    }
   ],
   "source": [
    "for i in range(6,11):\n",
    "    print(i)\n",
    "    \n",
    "print(range(2,1))"
   ]
  },
  {
   "cell_type": "markdown",
   "id": "c48cdf8a",
   "metadata": {},
   "source": [
    "# Video20: 20_Credit card validator in Python 💳"
   ]
  },
  {
   "cell_type": "code",
   "execution_count": null,
   "id": "f3bc082c",
   "metadata": {},
   "outputs": [],
   "source": [
    "# #Python #tutorial #project \n",
    "\n",
    "# Python credit card validator program\n",
    "\n",
    "# 1. Remove any '-' or ' '\n",
    "# 2. Add all digits in the odd places from right to left\n",
    "# 3. Double every second digit from right to left.\n",
    "# (If result is a two-digit number,\n",
    "# add the two-digit number together to get a single digit.)\n",
    "# 4. Sum the totals of steps 2 & 3\n",
    "# 5. If sum is divisible by 10, the credit card # is valid\n",
    "\n"
   ]
  }
 ],
 "metadata": {
  "kernelspec": {
   "display_name": "Python 3 (ipykernel)",
   "language": "python",
   "name": "python3"
  },
  "language_info": {
   "codemirror_mode": {
    "name": "ipython",
    "version": 3
   },
   "file_extension": ".py",
   "mimetype": "text/x-python",
   "name": "python",
   "nbconvert_exporter": "python",
   "pygments_lexer": "ipython3",
   "version": "3.11.5"
  }
 },
 "nbformat": 4,
 "nbformat_minor": 5
}
