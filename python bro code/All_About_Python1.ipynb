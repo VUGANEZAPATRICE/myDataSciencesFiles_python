{
 "cells": [
  {
   "cell_type": "markdown",
   "id": "b5d5a5df",
   "metadata": {},
   "source": [
    "# PYTHON COURSES"
   ]
  },
  {
   "cell_type": "markdown",
   "id": "c23a6f82",
   "metadata": {},
   "source": [
    "### 1. Easiest Language\n",
    "### 2. Number one in popularity\n",
    "### 3. Salary for new devs($64000--Glassdoor.com)"
   ]
  },
  {
   "cell_type": "code",
   "execution_count": 1,
   "id": "35f0c4b4",
   "metadata": {},
   "outputs": [
    {
     "name": "stdout",
     "output_type": "stream",
     "text": [
      "I love pizza\n",
      "It's really good\n"
     ]
    }
   ],
   "source": [
    "print(\"I love pizza\")\n",
    "print(\"It's really good\")"
   ]
  },
  {
   "cell_type": "markdown",
   "id": "2ff01db0",
   "metadata": {},
   "source": [
    "# Autocomplete\n",
    "!pip install jupyter-contrib-nbextensions"
   ]
  },
  {
   "cell_type": "markdown",
   "id": "6507729d",
   "metadata": {},
   "source": [
    "# Adding autocomplete feature to jupyter notebook\n",
    "## step 1: Open anaconda prompt and run the following commands\n",
    " #### 1) pip install jupyter_contrib_nbextensions\n",
    " \n",
    "  #### 2) pip install jupyter_nbextensions_configurator\n",
    " \n",
    "  #### 3) jupyter contrib nbextension install --user \n",
    " \n",
    "  #### 4) jupyter nbextensions_configurator enable --user\n",
    " \n",
    "\n",
    "## step 2: Open jupyter notebook\n",
    " - click on nbextensions tab\n",
    " - unckeck disable configuration for nbextensions without explicit compatibility\n",
    " - put a check on Hinterland\n",
    "## step 3: Open new python file and check autocomplete feature\n",
    "\n",
    "Reference : https://jupyter-contrib-nbextensions....\n"
   ]
  },
  {
   "cell_type": "code",
   "execution_count": 2,
   "id": "b0ffd066",
   "metadata": {},
   "outputs": [],
   "source": [
    "#!pip install jupyter-contrib-nbextensions"
   ]
  },
  {
   "cell_type": "markdown",
   "id": "c1910fa7",
   "metadata": {},
   "source": [
    "# Variables"
   ]
  },
  {
   "cell_type": "code",
   "execution_count": 3,
   "id": "5a5f0944",
   "metadata": {},
   "outputs": [
    {
     "name": "stdout",
     "output_type": "stream",
     "text": [
      "You are 21 years old\n",
      "You are 21 years old\n",
      "You are 21 years old\n"
     ]
    }
   ],
   "source": [
    "age = 21\n",
    "print(\"You are \"+ str(age)+\" years old\")\n",
    "print(\"You are\",age,\"years old\")\n",
    "print(f\"You are {age} years old\")"
   ]
  },
  {
   "cell_type": "markdown",
   "id": "5875584a",
   "metadata": {},
   "source": [
    "# Video 3: type casting\n",
    "\n",
    "**type casting** = The process of converting a value of one data type to another\n",
    "(string, integer, float, boolean)\n",
    "Explicit vs Implicit"
   ]
  },
  {
   "cell_type": "code",
   "execution_count": 7,
   "id": "b235dcc9",
   "metadata": {},
   "outputs": [
    {
     "name": "stdout",
     "output_type": "stream",
     "text": [
      "<class 'str'>\n",
      "<class 'int'>\n",
      "<class 'float'>\n",
      "<class 'bool'>\n",
      "Age in float:  21.0\n",
      "GPA in int:  1\n",
      "True\n",
      "Name in bool:  True\n"
     ]
    }
   ],
   "source": [
    "name = \"Bro\"\n",
    "age = 21\n",
    "gpa = 1.9\n",
    "student = True\n",
    "\n",
    "print(type(name))\n",
    "print(type(age))\n",
    "print(type(gpa))\n",
    "print(type(student)) \n",
    "\n",
    "age = float(age)\n",
    "print(\"Age in float: \",age)\n",
    "\n",
    "gpa = int(gpa)\n",
    "print(\"GPA in int: \",gpa)\n",
    "\n",
    "student = str(student)\n",
    "print(student)\n",
    "\n",
    "name = bool(name)\n",
    "print(\"Name in bool: \",name)\n"
   ]
  },
  {
   "cell_type": "markdown",
   "id": "b8b52580",
   "metadata": {},
   "source": [
    "# Video4: User input in Python"
   ]
  },
  {
   "cell_type": "code",
   "execution_count": 8,
   "id": "681d3666",
   "metadata": {},
   "outputs": [
    {
     "name": "stdout",
     "output_type": "stream",
     "text": [
      "Enter your name here: PATRICE\n",
      "Hello PATRICE\n"
     ]
    }
   ],
   "source": [
    "name = input(\"Enter your name here: \")\n",
    "\n",
    "print(f\"Hello {name}\")"
   ]
  },
  {
   "cell_type": "code",
   "execution_count": 9,
   "id": "ab091c56",
   "metadata": {},
   "outputs": [
    {
     "name": "stdout",
     "output_type": "stream",
     "text": [
      "Enter your name here: Patrice\n",
      "Enter your age: 55\n",
      "Hello Patrice\n",
      "You are 55 old.\n",
      "Next year you will be 56 old.\n"
     ]
    }
   ],
   "source": [
    "name = input(\"Enter your name here: \")\n",
    "age = input(\"Enter your age: \")\n",
    "\n",
    "print(f\"Hello {name}\")\n",
    "print(f\"You are {age} old.\")\n",
    "\n",
    "age = int(age)+1\n",
    "\n",
    "print(f\"Next year you will be {age} old.\")"
   ]
  },
  {
   "cell_type": "code",
   "execution_count": 10,
   "id": "f2c07f0e",
   "metadata": {},
   "outputs": [
    {
     "name": "stdout",
     "output_type": "stream",
     "text": [
      "Enter your name here: Vugatri\n",
      "Enter your age: 60\n",
      "Hello Vugatri\n",
      "You are 60.0 old.\n",
      "Next year you will be 61.0 old.\n"
     ]
    }
   ],
   "source": [
    "name1 = input(\"Enter your name here: \")\n",
    "age1 = float(input(\"Enter your age: \"))\n",
    "\n",
    "print(f\"Hello {name1}\")\n",
    "print(f\"You are {age1} old.\")\n",
    "\n",
    "print(f\"Next year you will be {age1+1} old.\")"
   ]
  },
  {
   "cell_type": "markdown",
   "id": "e5c8d940",
   "metadata": {},
   "source": [
    "## Exercise1\n",
    "\n",
    "## MAD LIBS Scheme"
   ]
  },
  {
   "cell_type": "code",
   "execution_count": 8,
   "id": "6feaa7f6",
   "metadata": {},
   "outputs": [
    {
     "name": "stdout",
     "output_type": "stream",
     "text": [
      "Enter an Adjective1: fantastic\n",
      "Enter an Adjective2: MARKERZUKER\n",
      "Enter an Adjective3: WONDERFUL\n",
      "Enter a noun: kARINGA\n",
      "Enter a verb: JOKE\n",
      "today, I went to a fantastic zoo\n",
      "In an exhibit, I saw kARINGA\n",
      "kARINGA was MARKERZUKER and JOKEing\n",
      "I was WONDERFUL\n"
     ]
    }
   ],
   "source": [
    "adjective1 = input(\"Enter an Adjective1: \")\n",
    "adjective2 = input(\"Enter an Adjective2: \")\n",
    "adjective3 = input(\"Enter an Adjective3: \")\n",
    "noun = input(\"Enter a noun: \")\n",
    "verb = input(\"Enter a verb: \")\n",
    "\n",
    "print(f\"today, I went to a {adjective1} zoo\")\n",
    "print(f\"In an exhibit, I saw {noun}\")\n",
    "print(f\"{noun} was {adjective2} and {verb}ing\")\n",
    "print(f\"I was {adjective3}\")"
   ]
  },
  {
   "cell_type": "markdown",
   "id": "0b9840ca",
   "metadata": {},
   "source": [
    "## Exercise2\n",
    "## Area of a rectangle"
   ]
  },
  {
   "cell_type": "code",
   "execution_count": 9,
   "id": "1c1e86ec",
   "metadata": {},
   "outputs": [
    {
     "name": "stdout",
     "output_type": "stream",
     "text": [
      "Enter the length of a rectangle: 34\n",
      "Enter the width of a rectangle: 40\n",
      "The Area of a rectangle is : 1360.0cm^2\n"
     ]
    }
   ],
   "source": [
    "length = float(input(\"Enter the length of a rectangle: \"))\n",
    "width = float(input(\"Enter the width of a rectangle: \"))\n",
    "\n",
    "area = length* width\n",
    "\n",
    "print(f\"The Area of a rectangle is : {area}cm^2\")"
   ]
  },
  {
   "cell_type": "code",
   "execution_count": 10,
   "id": "8a707ff9",
   "metadata": {},
   "outputs": [
    {
     "name": "stdout",
     "output_type": "stream",
     "text": [
      "Enter the length of a rectangle: 60\n",
      "Enter the width of a rectangle: 70\n",
      "Enter the height of a rectangle: 100\n",
      "The Volume of is : 420000.0cm^3\n"
     ]
    }
   ],
   "source": [
    "length = float(input(\"Enter the length of a rectangle: \"))\n",
    "width = float(input(\"Enter the width of a rectangle: \"))\n",
    "height = float(input(\"Enter the height of a rectangle: \"))\n",
    "\n",
    "volume = length * width * height \n",
    "\n",
    "print(f\"The Volume of is : {volume}cm^3\")"
   ]
  },
  {
   "cell_type": "markdown",
   "id": "98a57eae",
   "metadata": {},
   "source": [
    "## Exercise3\n",
    "## Shopping cart"
   ]
  },
  {
   "cell_type": "code",
   "execution_count": 11,
   "id": "76a93224",
   "metadata": {},
   "outputs": [
    {
     "name": "stdout",
     "output_type": "stream",
     "text": [
      "What item would you like to buy?: PIZZA\n",
      "What is the price?: 5.33\n",
      "How many would you like?: 12\n",
      "You have bought 12 X PIZZA/s\n",
      "your total is: $63.96.\n"
     ]
    }
   ],
   "source": [
    "item = input(\"What item would you like to buy?: \")\n",
    "price = float(input(\"What is the price?: \"))\n",
    "quantity = int(input(\"How many would you like?: \"))\n",
    "\n",
    "total = price * quantity\n",
    "\n",
    "print(f\"You have bought {quantity} X {item}/s\")\n",
    "print(f\"your total is: ${total}.\")"
   ]
  },
  {
   "cell_type": "code",
   "execution_count": 12,
   "id": "ead35370",
   "metadata": {},
   "outputs": [
    {
     "name": "stdout",
     "output_type": "stream",
     "text": [
      "What item would you like to buy?: SANDWITCH\n",
      "What is the price?: 9.4\n",
      "How many would you like?: 20\n",
      "You have bought 20 X SANDWITCH/s\n",
      "your total is: $188.0.\n"
     ]
    }
   ],
   "source": [
    "item = input(\"What item would you like to buy?: \")\n",
    "price = float(input(\"What is the price?: \"))\n",
    "quantity = int(input(\"How many would you like?: \"))\n",
    "\n",
    "total = price * quantity\n",
    "\n",
    "print(f\"You have bought {quantity} X {item}/s\")\n",
    "print(f\"your total is: ${round(total,2)}.\")"
   ]
  },
  {
   "cell_type": "markdown",
   "id": "240811b9",
   "metadata": {},
   "source": [
    "# VIDEO5: 5_Math in Python is easy - exercises 📐"
   ]
  },
  {
   "cell_type": "code",
   "execution_count": 13,
   "id": "e3c5250d",
   "metadata": {},
   "outputs": [
    {
     "name": "stdout",
     "output_type": "stream",
     "text": [
      "3\n"
     ]
    }
   ],
   "source": [
    "friends= 2\n",
    "friends = friends +1\n",
    "print(friends)"
   ]
  },
  {
   "cell_type": "code",
   "execution_count": 14,
   "id": "0d5c0191",
   "metadata": {},
   "outputs": [
    {
     "name": "stdout",
     "output_type": "stream",
     "text": [
      "3\n"
     ]
    }
   ],
   "source": [
    "friends= 2\n",
    "friends += 1\n",
    "print(friends)"
   ]
  },
  {
   "cell_type": "code",
   "execution_count": 15,
   "id": "b895cd12",
   "metadata": {},
   "outputs": [
    {
     "name": "stdout",
     "output_type": "stream",
     "text": [
      "2\n"
     ]
    }
   ],
   "source": [
    "friends -=1\n",
    "print(friends)"
   ]
  },
  {
   "cell_type": "code",
   "execution_count": 16,
   "id": "c98cf131",
   "metadata": {},
   "outputs": [
    {
     "name": "stdout",
     "output_type": "stream",
     "text": [
      "3\n"
     ]
    }
   ],
   "source": [
    "friends = 5\n",
    "friends -=2\n",
    "print(friends)"
   ]
  },
  {
   "cell_type": "code",
   "execution_count": 17,
   "id": "cbfe8e07",
   "metadata": {},
   "outputs": [
    {
     "name": "stdout",
     "output_type": "stream",
     "text": [
      "1\n"
     ]
    }
   ],
   "source": [
    "#friends -=2\n",
    "friends=friends-2\n",
    "print(friends)"
   ]
  },
  {
   "cell_type": "code",
   "execution_count": 18,
   "id": "f160820d",
   "metadata": {},
   "outputs": [
    {
     "name": "stdout",
     "output_type": "stream",
     "text": [
      "15\n"
     ]
    }
   ],
   "source": [
    "friends = 5\n",
    "friends *=3\n",
    "#friends = friends*3\n",
    "print(friends)"
   ]
  },
  {
   "cell_type": "code",
   "execution_count": 19,
   "id": "18ca4c15",
   "metadata": {},
   "outputs": [
    {
     "name": "stdout",
     "output_type": "stream",
     "text": [
      "15\n"
     ]
    }
   ],
   "source": [
    "friends = 5\n",
    "#friends *=3\n",
    "friends = friends*3\n",
    "print(friends)"
   ]
  },
  {
   "cell_type": "code",
   "execution_count": 20,
   "id": "73f3d870",
   "metadata": {},
   "outputs": [
    {
     "name": "stdout",
     "output_type": "stream",
     "text": [
      "4.0\n"
     ]
    }
   ],
   "source": [
    "friends = 12\n",
    "friends /=3\n",
    "#friends = friends/3\n",
    "print(friends)"
   ]
  },
  {
   "cell_type": "code",
   "execution_count": 21,
   "id": "0ea743c3",
   "metadata": {},
   "outputs": [
    {
     "name": "stdout",
     "output_type": "stream",
     "text": [
      "4.0\n"
     ]
    }
   ],
   "source": [
    "friends = 12\n",
    "#friends /=3\n",
    "friends = friends/3\n",
    "print(friends)"
   ]
  },
  {
   "cell_type": "code",
   "execution_count": 22,
   "id": "4069d914",
   "metadata": {},
   "outputs": [
    {
     "name": "stdout",
     "output_type": "stream",
     "text": [
      "125\n"
     ]
    }
   ],
   "source": [
    "friends = 5\n",
    "#friends **=3\n",
    "friends = friends**3\n",
    "print(friends)"
   ]
  },
  {
   "cell_type": "code",
   "execution_count": 23,
   "id": "4375de42",
   "metadata": {},
   "outputs": [
    {
     "name": "stdout",
     "output_type": "stream",
     "text": [
      "25\n"
     ]
    }
   ],
   "source": [
    "friends = 5\n",
    "#friends **=2\n",
    "friends = friends**2\n",
    "print(friends)"
   ]
  },
  {
   "cell_type": "code",
   "execution_count": 24,
   "id": "304f63ad",
   "metadata": {},
   "outputs": [
    {
     "name": "stdout",
     "output_type": "stream",
     "text": [
      "1\n"
     ]
    }
   ],
   "source": [
    "#REMAINDER\n",
    "friends = 10\n",
    "friends %=3\n",
    "#friends = friends%3\n",
    "print(friends)"
   ]
  },
  {
   "cell_type": "markdown",
   "id": "99ceff09",
   "metadata": {},
   "source": [
    "### Built-inFunctiond"
   ]
  },
  {
   "cell_type": "code",
   "execution_count": 25,
   "id": "0ae8b24d",
   "metadata": {},
   "outputs": [
    {
     "name": "stdout",
     "output_type": "stream",
     "text": [
      "3\n"
     ]
    }
   ],
   "source": [
    "x = 3.14\n",
    "y = 4\n",
    "z = 5\n",
    "result = round(x)# Round x to the nearest integer\n",
    "print(result)"
   ]
  },
  {
   "cell_type": "code",
   "execution_count": 26,
   "id": "d23ae020",
   "metadata": {},
   "outputs": [
    {
     "name": "stdout",
     "output_type": "stream",
     "text": [
      "12\n",
      "12.12\n"
     ]
    }
   ],
   "source": [
    "k=-12\n",
    "l = -12.12\n",
    "result2 = abs(k)\n",
    "result3 = abs(l)\n",
    "print(result2)\n",
    "print(result3)"
   ]
  },
  {
   "cell_type": "code",
   "execution_count": 27,
   "id": "120f7ccb",
   "metadata": {},
   "outputs": [
    {
     "name": "stdout",
     "output_type": "stream",
     "text": [
      "64\n",
      "5\n",
      "3.14\n"
     ]
    }
   ],
   "source": [
    "result4 = pow(y,3)\n",
    "print(result4)\n",
    "\n",
    "result5 = max(x,y,z)\n",
    "print(result5)\n",
    "\n",
    "result6 = min(x,y,z)\n",
    "print(result6)"
   ]
  },
  {
   "cell_type": "code",
   "execution_count": 28,
   "id": "724d7006",
   "metadata": {},
   "outputs": [],
   "source": [
    "#!pip install jupyter-contrib-nbextensions"
   ]
  },
  {
   "cell_type": "code",
   "execution_count": 29,
   "id": "95b39850",
   "metadata": {},
   "outputs": [
    {
     "name": "stdout",
     "output_type": "stream",
     "text": [
      "3.141592653589793\n",
      "2.718281828459045\n"
     ]
    }
   ],
   "source": [
    "import math\n",
    "\n",
    "print(math.pi)\n",
    "print(math.e)"
   ]
  },
  {
   "cell_type": "code",
   "execution_count": 30,
   "id": "dd509d57",
   "metadata": {},
   "outputs": [
    {
     "name": "stdout",
     "output_type": "stream",
     "text": [
      "3.0\n"
     ]
    }
   ],
   "source": [
    "a = 9\n",
    "result = math.sqrt(a)\n",
    "print(result)"
   ]
  },
  {
   "cell_type": "code",
   "execution_count": 31,
   "id": "1e569c0e",
   "metadata": {},
   "outputs": [
    {
     "name": "stdout",
     "output_type": "stream",
     "text": [
      "10\n"
     ]
    }
   ],
   "source": [
    "aa = 9.1\n",
    "result = math.ceil(aa)# rounds up a number\n",
    "print(result)"
   ]
  },
  {
   "cell_type": "code",
   "execution_count": 32,
   "id": "2567a8e7",
   "metadata": {},
   "outputs": [
    {
     "name": "stdout",
     "output_type": "stream",
     "text": [
      "9\n"
     ]
    }
   ],
   "source": [
    "aa = 9.9\n",
    "result = math.floor(aa)# rounds up a number\n",
    "print(result)"
   ]
  },
  {
   "cell_type": "code",
   "execution_count": 33,
   "id": "75b4587a",
   "metadata": {},
   "outputs": [
    {
     "name": "stdout",
     "output_type": "stream",
     "text": [
      "inf\n"
     ]
    }
   ],
   "source": [
    "# Print the positive infinity\n",
    "print (math.inf)"
   ]
  },
  {
   "cell_type": "code",
   "execution_count": 34,
   "id": "5ac297e0",
   "metadata": {},
   "outputs": [
    {
     "name": "stdout",
     "output_type": "stream",
     "text": [
      "0.5823642378687435\n",
      "-0.5823642378687435\n",
      "0.0\n",
      "1.5707963267948966\n",
      "-1.5707963267948966\n"
     ]
    }
   ],
   "source": [
    "# Return the arc sine of numbers\n",
    "print(math.asin(0.55))\n",
    "print(math.asin(-0.55))\n",
    "print(math.asin(0))\n",
    "print(math.asin(1))\n",
    "print(math.asin(-1))"
   ]
  },
  {
   "cell_type": "code",
   "execution_count": 35,
   "id": "1a143cbe",
   "metadata": {},
   "outputs": [
    {
     "name": "stdout",
     "output_type": "stream",
     "text": [
      "0.5226872289306592\n"
     ]
    }
   ],
   "source": [
    "# Return the arc sine of numbers\n",
    "print(math.sin(0.55))\n",
    "# print(math.asin(-0.55))\n",
    "# print(math.asin(0))\n",
    "# print(math.asin(1))\n",
    "# print(math.asin(-1))"
   ]
  },
  {
   "cell_type": "code",
   "execution_count": 36,
   "id": "29993a06",
   "metadata": {},
   "outputs": [
    {
     "name": "stdout",
     "output_type": "stream",
     "text": [
      "1.0\n",
      "0.3342377271245026\n",
      "-0.8390715290764524\n",
      "-1.0\n"
     ]
    }
   ],
   "source": [
    "# Return the cosine of different numbers\n",
    "print (math.cos(0.00))\n",
    "print (math.cos(-1.23))\n",
    "print (math.cos(10))\n",
    "print (math.cos(3.14159265359))"
   ]
  },
  {
   "cell_type": "code",
   "execution_count": 37,
   "id": "64c60732",
   "metadata": {},
   "outputs": [
    {
     "name": "stdout",
     "output_type": "stream",
     "text": [
      "3.141592653589793\n",
      "0.0\n",
      "==============================================================\n",
      "-1.0\n",
      "1.0\n"
     ]
    }
   ],
   "source": [
    "xx = math.radians(180)\n",
    "yy = math.radians(0)\n",
    "print(xx)\n",
    "print(yy)\n",
    "print(\"==============================================================\")\n",
    "\n",
    "print(math.cos(xx))\n",
    "print(math.cos(yy))"
   ]
  },
  {
   "cell_type": "code",
   "execution_count": 38,
   "id": "0be3369c",
   "metadata": {},
   "outputs": [
    {
     "name": "stdout",
     "output_type": "stream",
     "text": [
      "509.9324376664327\n",
      "-1145.9155902616465\n",
      "57.29577951308232\n",
      "5156.620156177409\n"
     ]
    }
   ],
   "source": [
    "#math.degrees()\tConverts an angle from radians to degrees\n",
    "# Convert from radians to degrees:\n",
    "print (math.degrees(8.90))\n",
    "print (math.degrees(-20))\n",
    "print (math.degrees(1))\n",
    "print (math.degrees(90))"
   ]
  },
  {
   "cell_type": "markdown",
   "id": "6a5aaa8b",
   "metadata": {},
   "source": [
    "#Converting back from degrees to radians\n",
    "The formula used to calculate a degree, with a known radian is:\n",
    "\n",
    "#### degrees = r * (180° / pi)\n",
    "\n",
    "The formula used to calculate a radian, with a known number of degrees:\n",
    "\n",
    "#### radians = degrees * (pi / 180°)\n"
   ]
  },
  {
   "cell_type": "code",
   "execution_count": 39,
   "id": "7d2376b3",
   "metadata": {},
   "outputs": [
    {
     "name": "stdout",
     "output_type": "stream",
     "text": [
      "180.0\n"
     ]
    }
   ],
   "source": [
    "# Use math to convert degrees to radians\n",
    "\n",
    "print(math.degrees(math.pi))"
   ]
  },
  {
   "cell_type": "code",
   "execution_count": 40,
   "id": "c75f1910",
   "metadata": {},
   "outputs": [
    {
     "name": "stdout",
     "output_type": "stream",
     "text": [
      "171.88733853924697\n"
     ]
    }
   ],
   "source": [
    "# Use math to convert degrees to radians\n",
    "print(math.degrees(3))"
   ]
  },
  {
   "cell_type": "code",
   "execution_count": 41,
   "id": "daf0678d",
   "metadata": {},
   "outputs": [
    {
     "name": "stdout",
     "output_type": "stream",
     "text": [
      "3.141592653589793\n"
     ]
    }
   ],
   "source": [
    "# Use math to convert radians to degrees\n",
    "import math\n",
    "print(math.radians(180))\n",
    "\n",
    "# Returns: 3.141592653589793"
   ]
  },
  {
   "cell_type": "code",
   "execution_count": 42,
   "id": "71555067",
   "metadata": {},
   "outputs": [
    {
     "name": "stdout",
     "output_type": "stream",
     "text": [
      "1.5707963267948966\n"
     ]
    }
   ],
   "source": [
    "# Use math to convert radians to degrees\n",
    "import math\n",
    "print(math.radians(90))\n",
    "\n",
    "# Returns: 1.5707963267948966"
   ]
  },
  {
   "cell_type": "code",
   "execution_count": 43,
   "id": "0cf9869c",
   "metadata": {},
   "outputs": [
    {
     "name": "stdout",
     "output_type": "stream",
     "text": [
      "2.0\n",
      "9.486832980505138\n"
     ]
    }
   ],
   "source": [
    "#math.dist()\tReturns the Euclidean distance between two points (p and q), where p and q are the coordinates of that point\n",
    "\n",
    "# Import math Library\n",
    "import math\n",
    "\n",
    "p = [3]\n",
    "q = [1]\n",
    "\n",
    "# Calculate Euclidean distance\n",
    "print (math.dist(p, q))\n",
    "\n",
    "p = [3, 3]\n",
    "q = [6, 12]\n",
    "\n",
    "# Calculate Euclidean distance\n",
    "print (math.dist(p, q))\n",
    "\n",
    "\n"
   ]
  },
  {
   "cell_type": "code",
   "execution_count": 44,
   "id": "f2f7d32a",
   "metadata": {},
   "outputs": [
    {
     "name": "stdout",
     "output_type": "stream",
     "text": [
      "362880\n",
      "720\n",
      "479001600\n"
     ]
    }
   ],
   "source": [
    "#math.factorial()\tReturns the factorial of a number\n",
    "\n",
    "#Import math Library\n",
    "import math\n",
    "\n",
    "#Return factorial of a number\n",
    "print(math.factorial(9))\n",
    "print(math.factorial(6))\n",
    "print(math.factorial(12))\n"
   ]
  },
  {
   "cell_type": "code",
   "execution_count": 45,
   "id": "c87b782b",
   "metadata": {},
   "outputs": [
    {
     "name": "stdout",
     "output_type": "stream",
     "text": [
      "15.0\n",
      "1340.0\n",
      "8.0\n"
     ]
    }
   ],
   "source": [
    "#math.fsum()\tReturns the sum of all items in any iterable (tuples, arrays, lists, etc.)\n",
    "\n",
    "import math\n",
    "\n",
    "# Print the sum of all items\n",
    "print(math.fsum([1, 2, 3, 4, 5]))\n",
    "print(math.fsum([100, 400, 340, 500]))\n",
    "print(math.fsum([1.7, 0.3, 1.5, 4.5]))"
   ]
  },
  {
   "cell_type": "code",
   "execution_count": 46,
   "id": "863a170d",
   "metadata": {},
   "outputs": [
    {
     "name": "stdout",
     "output_type": "stream",
     "text": [
      "66.43\n",
      "7.0\n"
     ]
    }
   ],
   "source": [
    "# math.fabs()\tReturns the absolute value of a number\n",
    "\n",
    "#Import math Library\n",
    "import math\n",
    "\n",
    "#Print absolute values from numbers\n",
    "print(math.fabs(-66.43))\n",
    "print(math.fabs(-7))"
   ]
  },
  {
   "cell_type": "code",
   "execution_count": 47,
   "id": "afc49773",
   "metadata": {},
   "outputs": [
    {
     "name": "stdout",
     "output_type": "stream",
     "text": [
      "3\n",
      "6\n",
      "12\n",
      "12\n",
      "1\n",
      "10\n",
      "34\n",
      "0\n"
     ]
    }
   ],
   "source": [
    "# math.gcd()\tReturns the greatest common divisor of two integers\n",
    "\n",
    "\n",
    "#Import math Library\n",
    "import math\n",
    "\n",
    "#find the  the greatest common divisor of the two integers\n",
    "print (math.gcd(3, 6))\n",
    "print (math.gcd(6, 12))\n",
    "print (math.gcd(12, 36))\n",
    "print (math.gcd(-12, -36))\n",
    "print (math.gcd(5, 12))\n",
    "print (math.gcd(10, 0))\n",
    "print (math.gcd(0, 34))\n",
    "print (math.gcd(0, 0))\n"
   ]
  },
  {
   "cell_type": "code",
   "execution_count": 48,
   "id": "a1a1944e",
   "metadata": {},
   "outputs": [
    {
     "name": "stdout",
     "output_type": "stream",
     "text": [
      "0.0\n",
      "-0.9424888019316975\n",
      "-0.5440211108893698\n",
      "1.2246467991473532e-16\n",
      "1.0\n"
     ]
    }
   ],
   "source": [
    "# math.sin()\tReturns the sine of a number\n",
    "#Find the sine of different numbers:\n",
    "\n",
    "# Import math Library\n",
    "import math\n",
    "\n",
    "# Return the sine of different values\n",
    "print (math.sin(0.00))\n",
    "print (math.sin(-1.23))\n",
    "print (math.sin(10))\n",
    "print (math.sin(math.pi))\n",
    "print (math.sin(math.pi/2))"
   ]
  },
  {
   "cell_type": "markdown",
   "id": "b05debb1",
   "metadata": {},
   "source": [
    "### Circumference of a circle: C = π d or C = 2 π r"
   ]
  },
  {
   "cell_type": "code",
   "execution_count": 49,
   "id": "06d12148",
   "metadata": {},
   "outputs": [
    {
     "name": "stdout",
     "output_type": "stream",
     "text": [
      "Enter the radius of a circle: 15\n",
      "The circumference is : 94.25cm\n"
     ]
    }
   ],
   "source": [
    "radius = float(input(\"Enter the radius of a circle: \"))\n",
    "C = 2*math.pi*radius\n",
    "print(f\"The circumference is : {round(C,2)}cm\")"
   ]
  },
  {
   "cell_type": "markdown",
   "id": "b1047a1f",
   "metadata": {},
   "source": [
    "### Area of a circle: R^2π"
   ]
  },
  {
   "cell_type": "code",
   "execution_count": 50,
   "id": "00f83642",
   "metadata": {},
   "outputs": [
    {
     "name": "stdout",
     "output_type": "stream",
     "text": [
      "Enter the radius of a circle: 20\n",
      "The area is : 1256.64cm^2\n"
     ]
    }
   ],
   "source": [
    "radius = float(input(\"Enter the radius of a circle: \"))\n",
    "area = math.pi*pow(radius,2)\n",
    "#area = math.pi*radius*radius\n",
    "print(f\"The area is : {round(area,2)}cm^2\")"
   ]
  },
  {
   "attachments": {
    "image.png": {
     "image/png": "[encoded data removed]"
    }
   },
   "cell_type": "markdown",
   "id": "ae0fc356",
   "metadata": {},
   "source": [
    "### Hypotenuse of a right triangle:![image.png](attachment:image.png) "
   ]
  },
  {
   "cell_type": "code",
   "execution_count": 51,
   "id": "58417c00",
   "metadata": {},
   "outputs": [
    {
     "name": "stdout",
     "output_type": "stream",
     "text": [
      "Enter Side A: 15\n",
      "Enter Side B: 10\n",
      "Hypotenuse (side c) is: 18.027756377319946cm\n"
     ]
    }
   ],
   "source": [
    "A = float(input(\"Enter Side A: \"))\n",
    "B = float(input(\"Enter Side B: \"))\n",
    "\n",
    "c = math.sqrt(pow(A,2)+pow(B,2))\n",
    "print(f\"Hypotenuse (side c) is: {c}cm\")"
   ]
  },
  {
   "cell_type": "markdown",
   "id": "752d2e5d",
   "metadata": {},
   "source": [
    "# Video6: 6_If statements in Python are easy -if- elif- else- 🤔"
   ]
  },
  {
   "cell_type": "code",
   "execution_count": 52,
   "id": "5b6f1e9d",
   "metadata": {},
   "outputs": [
    {
     "name": "stdout",
     "output_type": "stream",
     "text": [
      "Enter your age: 13\n",
      "You must be 18+ to sign up\n"
     ]
    }
   ],
   "source": [
    "# iF= dO some code if some condition is True\n",
    "# ELLSE: do something else\n",
    "\n",
    "age = int(input(\"Enter your age: \"))\n",
    "\n",
    "if age >=18:\n",
    "    print(\"You are now signed up!!\")\n",
    "    \n",
    "else:\n",
    "    print(\"You must be 18+ to sign up\")"
   ]
  },
  {
   "cell_type": "code",
   "execution_count": 54,
   "id": "2e71f544",
   "metadata": {},
   "outputs": [
    {
     "name": "stdout",
     "output_type": "stream",
     "text": [
      "Enter your age: -12\n",
      "you haven't been born yet!!!\n"
     ]
    }
   ],
   "source": [
    "age = int(input(\"Enter your age: \"))\n",
    "\n",
    "if age >100:\n",
    "    print(\"You are too old to sign up!!!\")\n",
    "\n",
    "elif age >=18:\n",
    "    print(\"You are now signed up!!\")\n",
    "    \n",
    "elif age <0:\n",
    "    print(\"you haven't been born yet!!!\")\n",
    "    \n",
    "else:\n",
    "    print(\"You must be 18+ to sign up\")"
   ]
  },
  {
   "cell_type": "code",
   "execution_count": 55,
   "id": "0c480fb9",
   "metadata": {},
   "outputs": [
    {
     "name": "stdout",
     "output_type": "stream",
     "text": [
      "Would you like food? (Y/N):  Y\n",
      "Have some food!!\n"
     ]
    }
   ],
   "source": [
    "response = input(\"Would you like food? (Y/N):  \")\n",
    "\n",
    "if response == \"Y\":\n",
    "    print(\"Have some food!!\")\n",
    "    \n",
    "else:\n",
    "    print(\"No food for you!!\")"
   ]
  },
  {
   "cell_type": "code",
   "execution_count": 57,
   "id": "cb7752a3",
   "metadata": {},
   "outputs": [
    {
     "name": "stdout",
     "output_type": "stream",
     "text": [
      "Enter your name: \n",
      "You did not type in your name\n"
     ]
    }
   ],
   "source": [
    "name = input(\"Enter your name: \")\n",
    "\n",
    "if name==\"\":\n",
    "    print(\"You did not type in your name\")\n",
    "    \n",
    "else:\n",
    "    print(f\"Hello {name}!!\")"
   ]
  },
  {
   "cell_type": "code",
   "execution_count": 59,
   "id": "6adade0b",
   "metadata": {},
   "outputs": [
    {
     "name": "stdout",
     "output_type": "stream",
     "text": [
      "The user is online\n"
     ]
    }
   ],
   "source": [
    "# BOOLEAN\n",
    "\n",
    "online = True\n",
    "\n",
    "if online:\n",
    "    print(\"The user is online\")\n",
    "else:\n",
    "    print(\"The user is offline\")"
   ]
  },
  {
   "cell_type": "markdown",
   "id": "628abba4",
   "metadata": {},
   "source": [
    "# Video7: 7_Python calculator program 🧮"
   ]
  },
  {
   "cell_type": "code",
   "execution_count": 63,
   "id": "14e50d4e",
   "metadata": {},
   "outputs": [
    {
     "name": "stdout",
     "output_type": "stream",
     "text": [
      "Enter an operator (+ - * / ): +\n",
      "Enter 1st number: 3.14\n",
      "Enter 2nd number: 3\n",
      "6.14\n"
     ]
    }
   ],
   "source": [
    "operator = input(\"Enter an operator (+ - * / ): \")\n",
    "\n",
    "num1 = float(input(\"Enter 1st number: \"))\n",
    "num2 = float(input(\"Enter 2nd number: \"))\n",
    "\n",
    "if operator == \"+\":\n",
    "    result = num1 + num2\n",
    "    print(round(result, 3))\n",
    "    \n",
    "elif operator == \"-\":\n",
    "    result = num1 -num2\n",
    "    print(round(result, 3))\n",
    "    \n",
    "elif operator == \"*\":\n",
    "    result = num1*num2\n",
    "    print(round(result, 3))\n",
    "    \n",
    "elif operator == \"/\":\n",
    "    result = num1/num2\n",
    "    print(round(result, 3))\n",
    "else:\n",
    "    print(f\"{operator} is not valid operator\")"
   ]
  },
  {
   "cell_type": "markdown",
   "id": "1d2b5861",
   "metadata": {},
   "source": [
    "# Video 8: 8_Python weight conversion exercise 🏋️"
   ]
  },
  {
   "cell_type": "code",
   "execution_count": 11,
   "id": "cddf5d28",
   "metadata": {},
   "outputs": [
    {
     "name": "stdout",
     "output_type": "stream",
     "text": [
      "Enter your weight: 68.025\n",
      "Kilograms or Pounds (K or L): k\n",
      "Your Wight is: 150.0 LBS.\n"
     ]
    }
   ],
   "source": [
    "# Python Weight Converter\n",
    "weight = float(input(\"Enter your weight: \"))\n",
    "\n",
    "unit = input(\"Kilograms or Pounds (K or L): \")\n",
    "\n",
    "if unit.upper()==\"K\":\n",
    "    weight = weight*2.205\n",
    "    unit = \"LBS.\"\n",
    "elif unit.upper() == \"L\":\n",
    "    weight = weight/2.205\n",
    "    unit = \"KGS.\"\n",
    "    \n",
    "else:\n",
    "    print(f\"{unit} was not valid!!\")\n",
    "print(f\"Your Wight is: {round(weight,2)} {unit}\")"
   ]
  },
  {
   "cell_type": "markdown",
   "id": "ec0785fe",
   "metadata": {},
   "source": [
    "# Check if a number is an int or float in Python\n",
    "Use the **isinstance()** function to check if a number is an **int or float**.\n",
    "\n",
    "The **isinstance** function will return **True** if the passed-in object is an instance of the provided class (int or float)."
   ]
  },
  {
   "cell_type": "code",
   "execution_count": 14,
   "id": "47923e75",
   "metadata": {},
   "outputs": [
    {
     "name": "stdout",
     "output_type": "stream",
     "text": [
      "number is int\n",
      "Number is either int or float\n"
     ]
    }
   ],
   "source": [
    "my_num = 1357\n",
    "\n",
    "if isinstance(my_num, int):\n",
    "    print('number is int')\n",
    "\n",
    "if isinstance(my_num, float):\n",
    "    print('number is float')\n",
    "\n",
    "# -----------------------------------\n",
    "\n",
    "# ✅ checks if a number is either int or float\n",
    "\n",
    "if isinstance(my_num, (int, float)):\n",
    "    print('Number is either int or float')"
   ]
  },
  {
   "cell_type": "markdown",
   "id": "c781c924",
   "metadata": {},
   "source": [
    "# Check if a string is an Integer or a Float in Python\n",
    "To check if a string is an integer or a float:\n",
    "\n",
    "Use the **str.isdigit()** method to check if every character in the string is a digit.\n",
    "If the method returns **True**, the string is an integer.\n",
    "If the method returns **False**, the string is a floating-point number."
   ]
  },
  {
   "cell_type": "code",
   "execution_count": 15,
   "id": "3aaeac47",
   "metadata": {},
   "outputs": [
    {
     "name": "stdout",
     "output_type": "stream",
     "text": [
      "String is an integer\n",
      "2468\n"
     ]
    }
   ],
   "source": [
    "my_str = '2468'\n",
    "\n",
    "if my_str.isdigit():\n",
    "    my_num = int(my_str)\n",
    "    print('String is an integer')\n",
    "else:\n",
    "    my_num = float(my_str)\n",
    "    print('String is a float')\n",
    "\n",
    "print(my_num)  # 👉️ 2468"
   ]
  },
  {
   "cell_type": "code",
   "execution_count": 16,
   "id": "e352ffd1",
   "metadata": {},
   "outputs": [
    {
     "name": "stdout",
     "output_type": "stream",
     "text": [
      "String is a float\n",
      "2468.45\n"
     ]
    }
   ],
   "source": [
    "my_str = '2468.45'\n",
    "\n",
    "if my_str.isdigit():\n",
    "    my_num = int(my_str)\n",
    "    print('String is an integer')\n",
    "else:\n",
    "    my_num = float(my_str)\n",
    "    print('String is a float')\n",
    "\n",
    "print(my_num)  # 👉️ 2468.45"
   ]
  },
  {
   "cell_type": "code",
   "execution_count": 13,
   "id": "7de7a056",
   "metadata": {},
   "outputs": [
    {
     "name": "stdout",
     "output_type": "stream",
     "text": [
      "Enter your weight: 180\n",
      "Kilograms or Pounds (K or L): u\n",
      "u was not valid!!\n"
     ]
    }
   ],
   "source": [
    "# Python Weight Converter\n",
    "weight = float(input(\"Enter your weight: \"))\n",
    "if weight\n",
    "\n",
    "unit = input(\"Kilograms or Pounds (K or L): \")\n",
    "\n",
    "if unit.upper()==\"K\":\n",
    "    weight = weight*2.205\n",
    "    unit = \"LBS.\"\n",
    "    print(f\"Your Wight is: {round(weight,2)} {unit}\")\n",
    "elif unit.upper() == \"L\":\n",
    "    weight = weight/2.205\n",
    "    unit = \"KGS.\"\n",
    "    print(f\"Your Wight is: {round(weight,2)} {unit}\")\n",
    "    \n",
    "else:\n",
    "    print(f\"{unit} was not valid!!\")\n"
   ]
  },
  {
   "cell_type": "markdown",
   "id": "4e94f3f2",
   "metadata": {},
   "source": [
    "# Check if a string is an Integer or a Float using try/except\n",
    "Wrap the call to the **int()** class in a **try** block.\n",
    "\n",
    "If the call to the **int()** class succeeds, the string is an integer.\n",
    "\n",
    "If the **except** block runs, the string is a floating-point number."
   ]
  },
  {
   "cell_type": "code",
   "execution_count": 17,
   "id": "df51bd96",
   "metadata": {},
   "outputs": [
    {
     "name": "stdout",
     "output_type": "stream",
     "text": [
      "String is an integer\n",
      "-2468\n"
     ]
    }
   ],
   "source": [
    "my_str = '-2468'\n",
    "\n",
    "\n",
    "try:\n",
    "    my_num = int(my_str)\n",
    "\n",
    "    # 👇️ this runs\n",
    "    print('String is an integer')\n",
    "except ValueError:\n",
    "    my_num = float(my_str)\n",
    "    print('String is a float')\n",
    "\n",
    "print(my_num) # 👉️ -2468"
   ]
  },
  {
   "cell_type": "code",
   "execution_count": 18,
   "id": "736200df",
   "metadata": {},
   "outputs": [
    {
     "name": "stdout",
     "output_type": "stream",
     "text": [
      "String is a float\n",
      "-2468.8\n"
     ]
    }
   ],
   "source": [
    "my_str = '-2468.8'\n",
    "\n",
    "\n",
    "try:\n",
    "    my_num = int(my_str)\n",
    "\n",
    "    # 👇️ this runs\n",
    "    print('String is an integer')\n",
    "except ValueError:\n",
    "    my_num = float(my_str)\n",
    "    print('String is a float')\n",
    "\n",
    "print(my_num) # 👉️ -2468"
   ]
  },
  {
   "cell_type": "markdown",
   "id": "9ff4f1e8",
   "metadata": {},
   "source": [
    "# Check if a String can be converted to an Integer in Python\n",
    "To check if a string can be converted to an integer:\n",
    "\n",
    "Wrap the call to the **int()** class in a **try/except** block.\n",
    "\n",
    "If the conversion succeeds, the try block will fully run.\n",
    "\n",
    "If the conversion to integer fails, handle the ValueError in the except block."
   ]
  },
  {
   "cell_type": "code",
   "execution_count": 19,
   "id": "5d9ea7b7",
   "metadata": {},
   "outputs": [
    {
     "name": "stdout",
     "output_type": "stream",
     "text": [
      "True\n",
      "True\n",
      "False\n",
      "False\n"
     ]
    }
   ],
   "source": [
    "def can_convert_to_int(string):\n",
    "    try:\n",
    "        int(string)\n",
    "\n",
    "        return True\n",
    "    except ValueError:\n",
    "        return False\n",
    "\n",
    "\n",
    "print(can_convert_to_int('1357'))  # 👉️ True\n",
    "print(can_convert_to_int('-1357'))  # 👉️ True\n",
    "print(can_convert_to_int('1.357'))  # 👉️ False\n",
    "print(can_convert_to_int('ABC123'))  # 👉️ False\n"
   ]
  },
  {
   "cell_type": "markdown",
   "id": "1227aeda",
   "metadata": {},
   "source": [
    "# Check if String can be converted to Integer using isdigit()\n",
    "Alternatively, you can use the **str.isdigit()** method.\n",
    "\n",
    "If the **str.isdigit** method returns True, then all of the characters in the string are digits and it can be converted to an integer."
   ]
  },
  {
   "cell_type": "code",
   "execution_count": 20,
   "id": "35747de3",
   "metadata": {},
   "outputs": [
    {
     "name": "stdout",
     "output_type": "stream",
     "text": [
      "1357\n",
      "✅ string can be converted to integer\n"
     ]
    }
   ],
   "source": [
    "my_str = '1357'\n",
    "\n",
    "if my_str.isdigit():\n",
    "    my_int = int(my_str)\n",
    "    print(my_int)  # 👉️ 1357\n",
    "\n",
    "    print('✅ string can be converted to integer')\n",
    "else:\n",
    "    print('⛔️ string CANNOT be converted to integer')\n"
   ]
  },
  {
   "cell_type": "code",
   "execution_count": 21,
   "id": "a3803cdc",
   "metadata": {},
   "outputs": [
    {
     "name": "stdout",
     "output_type": "stream",
     "text": [
      "⛔️ string CANNOT be converted to integer\n"
     ]
    }
   ],
   "source": [
    "my_str = '1357.6'\n",
    "\n",
    "if my_str.isdigit():\n",
    "    my_int = int(my_str)\n",
    "    print(my_int)  # 👉️ 1357\n",
    "\n",
    "    print('✅ string can be converted to integer')\n",
    "else:\n",
    "    print('⛔️ string CANNOT be converted to integer')\n"
   ]
  },
  {
   "cell_type": "markdown",
   "id": "1cc37f6b",
   "metadata": {},
   "source": [
    "# Check if a String can be converted to a Float in Python\n",
    "\n",
    "To check if a string can be converted to a float:\n",
    "\n",
    "Wrap the call to the **float()** class in a **try/except** block.\n",
    "\n",
    "If the try block runs successfully, the string can be converted to a float.\n",
    "\n",
    "If the except block runs, the string cannot be converted to a float."
   ]
  },
  {
   "cell_type": "code",
   "execution_count": 22,
   "id": "75970266",
   "metadata": {},
   "outputs": [
    {
     "name": "stdout",
     "output_type": "stream",
     "text": [
      "3.456\n"
     ]
    }
   ],
   "source": [
    "my_str = '3.456'\n",
    "\n",
    "try:\n",
    "    result = float(my_str)\n",
    "    print(result)  # 👉️ 3.456\n",
    "except ValueError:\n",
    "    print('Value cannot be converted to a float')\n"
   ]
  },
  {
   "cell_type": "code",
   "execution_count": 24,
   "id": "c6ce094e",
   "metadata": {},
   "outputs": [
    {
     "name": "stdout",
     "output_type": "stream",
     "text": [
      "Value cannot be converted to a float\n"
     ]
    }
   ],
   "source": [
    "my_str = '3mk'\n",
    "\n",
    "try:\n",
    "    result = float(my_str)\n",
    "    print(result)  # 👉️ 3.456\n",
    "except ValueError:\n",
    "    print('Value cannot be converted to a float')\n"
   ]
  },
  {
   "cell_type": "code",
   "execution_count": 26,
   "id": "66840ecf",
   "metadata": {},
   "outputs": [
    {
     "name": "stdout",
     "output_type": "stream",
     "text": [
      "123.0\n",
      "True\n",
      "1.23\n",
      "True\n",
      "False\n",
      "0.5\n",
      "True\n",
      "=========================================================================\n",
      "3.14\n",
      "String can be converted to a float ✅\n"
     ]
    }
   ],
   "source": [
    "def can_convert_to_float(string):\n",
    "    try:\n",
    "        result = float(string)\n",
    "        print(result)\n",
    "\n",
    "        return True\n",
    "    except ValueError:\n",
    "        return False\n",
    "\n",
    "\n",
    "print(can_convert_to_float('123'))  # 👉️ True\n",
    "print(can_convert_to_float('1.23'))  # 👉️ True\n",
    "print(can_convert_to_float('a.bc'))  # 👉️ False\n",
    "print(can_convert_to_float('.5'))  # 👉️ True\n",
    "print(\"=========================================================================\")\n",
    "if can_convert_to_float('3.14'):\n",
    "    # 👇️ this runs\n",
    "    print('String can be converted to a float ✅')\n",
    "else:\n",
    "    print('String cannot be converted to a float ⛔️')\n"
   ]
  },
  {
   "cell_type": "markdown",
   "id": "7be7eb05",
   "metadata": {},
   "source": [
    "# Check if a Float is a whole Number in Python\n",
    "You can use the **float.is_integer()** method to check if a float is a whole number."
   ]
  },
  {
   "cell_type": "code",
   "execution_count": 27,
   "id": "1be0d357",
   "metadata": {},
   "outputs": [
    {
     "name": "stdout",
     "output_type": "stream",
     "text": [
      "True\n"
     ]
    }
   ],
   "source": [
    "import math\n",
    "\n",
    "# ✅ check if a float is a whole number using float.is_integer()\n",
    "\n",
    "result = (3.00).is_integer()\n",
    "print(result)  # 👉️ True\n"
   ]
  },
  {
   "cell_type": "code",
   "execution_count": 28,
   "id": "048b878b",
   "metadata": {},
   "outputs": [
    {
     "name": "stdout",
     "output_type": "stream",
     "text": [
      "True\n",
      "False\n"
     ]
    }
   ],
   "source": [
    "print((3.00).is_integer())  # 👉️ True\n",
    "print((3.14).is_integer())  # 👉️ False"
   ]
  },
  {
   "cell_type": "markdown",
   "id": "47329098",
   "metadata": {},
   "source": [
    "# Check if a float is a whole number using modulo\n",
    "This is a three-step process:\n",
    "\n",
    "Use the modulo operator to divide the float by 1.\n",
    "\n",
    "If the remainder from the division is 0, the number is whole.\n",
    "\n",
    "If the remainder isn't 0, the number has a decimal point."
   ]
  },
  {
   "cell_type": "code",
   "execution_count": 29,
   "id": "d2715a67",
   "metadata": {},
   "outputs": [
    {
     "name": "stdout",
     "output_type": "stream",
     "text": [
      "True\n"
     ]
    }
   ],
   "source": [
    "num = 5.00\n",
    "\n",
    "result = num % 1 == 0\n",
    "print(result)  # 👉️ True\n"
   ]
  },
  {
   "cell_type": "code",
   "execution_count": 30,
   "id": "ed7c90ff",
   "metadata": {},
   "outputs": [
    {
     "name": "stdout",
     "output_type": "stream",
     "text": [
      "0\n",
      "0.5\n"
     ]
    }
   ],
   "source": [
    "print(10 % 1)  # 👉️ 0\n",
    "\n",
    "print(10.5 % 1)  # 👉️ 0.5\n"
   ]
  },
  {
   "cell_type": "markdown",
   "id": "64120134",
   "metadata": {},
   "source": [
    "# Check if a float is a whole number using math.floor()"
   ]
  },
  {
   "cell_type": "code",
   "execution_count": 31,
   "id": "2e94aa07",
   "metadata": {},
   "outputs": [
    {
     "name": "stdout",
     "output_type": "stream",
     "text": [
      "True\n"
     ]
    }
   ],
   "source": [
    "import math\n",
    "\n",
    "\n",
    "num = 7.00\n",
    "\n",
    "result = math.floor(num) == num\n",
    "print(result)  # 👉️ True\n"
   ]
  },
  {
   "cell_type": "code",
   "execution_count": 32,
   "id": "296cdf5a",
   "metadata": {},
   "outputs": [
    {
     "name": "stdout",
     "output_type": "stream",
     "text": [
      "3\n",
      "3\n"
     ]
    }
   ],
   "source": [
    "print(math.floor(3.99))  # 👉️ 3\n",
    "print(math.floor(3.00))  # 👉️ 3\n"
   ]
  },
  {
   "cell_type": "markdown",
   "id": "d4310d52",
   "metadata": {},
   "source": [
    "# 9_Python weight conversion exercise 🏋️"
   ]
  },
  {
   "cell_type": "code",
   "execution_count": 40,
   "id": "3c336b6e",
   "metadata": {},
   "outputs": [
    {
     "name": "stdout",
     "output_type": "stream",
     "text": [
      "Enter your weight: 517\n",
      "Kilograms or Pounds (K or L): l\n",
      "Your Wight is: 234.47 KGS.\n"
     ]
    }
   ],
   "source": [
    "# Python Weight Converter\n",
    "weight = input(\"Enter your weight: \")\n",
    "\n",
    "try:\n",
    "    weight = float(weight)\n",
    "#     print(result)  # 👉️ 3.456\n",
    "    unit = input(\"Kilograms or Pounds (K or L): \")\n",
    "    \n",
    "    if unit.upper()==\"K\":\n",
    "        weight = weight*2.205\n",
    "        unit = \"LBS.\"\n",
    "        print(f\"Your Wight is: {round(weight,2)} {unit}\")\n",
    "    elif unit.upper() == \"L\":\n",
    "        weight = weight/2.205\n",
    "        unit = \"KGS.\"\n",
    "        print(f\"Your Wight is: {round(weight,2)} {unit}\")\n",
    "    else:\n",
    "        print(f\"{unit} was not valid!!\")\n",
    "except ValueError:\n",
    "#     print('Value cannot be converted to a float')\n",
    "    print(\"Please the entered stuff is not a number\")\n",
    "    \n"
   ]
  },
  {
   "cell_type": "markdown",
   "id": "41638e13",
   "metadata": {},
   "source": [
    "# Video9_9_Python temperature conversion program"
   ]
  },
  {
   "cell_type": "code",
   "execution_count": 41,
   "id": "95370b0f",
   "metadata": {},
   "outputs": [
    {
     "name": "stdout",
     "output_type": "stream",
     "text": [
      "Is this temperature in Celsius or Fahrenheit (C/F): C\n",
      "Enter the temperature: 100\n",
      "The temperature in Fahrenheit is: 212.0°F\n"
     ]
    }
   ],
   "source": [
    "\n",
    "unit = input(\"Is this temperature in Celsius or Fahrenheit (C/F): \")\n",
    "temp = float(input(\"Enter the temperature: \"))\n",
    "\n",
    "if unit == \"C\":\n",
    "    temp = round((9 * temp) / 5 + 32, 1)\n",
    "    print(f\"The temperature in Fahrenheit is: {temp}°F\")\n",
    "elif unit == \"F\":\n",
    "    temp = round((temp - 32) * 5 / 9, 1)\n",
    "    print(f\"The temperature in Celsius is: {temp}°C\")\n",
    "else:\n",
    "    print(f\"{unit} is an invalid unit of measurement\")"
   ]
  },
  {
   "cell_type": "markdown",
   "id": "ba956f46",
   "metadata": {},
   "source": [
    "# Video 10: 10_Logical operators in Python are easy ☀️"
   ]
  },
  {
   "cell_type": "code",
   "execution_count": 42,
   "id": "285fc757",
   "metadata": {},
   "outputs": [
    {
     "name": "stdout",
     "output_type": "stream",
     "text": [
      "The temperature is good\n"
     ]
    }
   ],
   "source": [
    "temp =25\n",
    "\n",
    "if temp > 0 and temp < 30:\n",
    "    print(\"The temperature is good\")\n",
    "else:\n",
    "    print(\"The temperature is bad\")"
   ]
  },
  {
   "cell_type": "code",
   "execution_count": 44,
   "id": "06fd1355",
   "metadata": {},
   "outputs": [
    {
     "name": "stdout",
     "output_type": "stream",
     "text": [
      "The temperature is bad\n"
     ]
    }
   ],
   "source": [
    "temp =40\n",
    "\n",
    "if temp <= 0 or temp >= 30:\n",
    "    print(\"The temperature is bad\")\n",
    "else:\n",
    "    print(\"The temperature is good\")"
   ]
  },
  {
   "cell_type": "code",
   "execution_count": 45,
   "id": "c918edc4",
   "metadata": {},
   "outputs": [
    {
     "name": "stdout",
     "output_type": "stream",
     "text": [
      "It is suny outside\n"
     ]
    }
   ],
   "source": [
    "sunny = True\n",
    "if sunny:\n",
    "    print(\"It is suny outside\")\n",
    "else:\n",
    "    print(\"It is cloudy\")"
   ]
  },
  {
   "cell_type": "code",
   "execution_count": 46,
   "id": "1142b245",
   "metadata": {},
   "outputs": [
    {
     "name": "stdout",
     "output_type": "stream",
     "text": [
      "It is sunny\n"
     ]
    }
   ],
   "source": [
    "sunny = True\n",
    "if not sunny:\n",
    "    print(\"It is cloudy outside\")\n",
    "else:\n",
    "    print(\"It is sunny\")"
   ]
  },
  {
   "cell_type": "markdown",
   "id": "bb9dc905",
   "metadata": {},
   "source": [
    "# Video11: 11_String methods in Python are easy 🧵"
   ]
  },
  {
   "cell_type": "code",
   "execution_count": 49,
   "id": "68fc8473",
   "metadata": {},
   "outputs": [
    {
     "name": "stdout",
     "output_type": "stream",
     "text": [
      "Enter your name: VUGANEZA Patrice\n",
      "Enter your phone #: +250784337888\n",
      "16\n",
      "8\n",
      "Vuganeza patrice\n",
      "VUGANEZA PATRICE\n",
      "vuganeza patrice\n",
      "False\n",
      "False\n",
      "0\n",
      "+250784337888\n"
     ]
    }
   ],
   "source": [
    "name = input(\"Enter your name: \")\n",
    "phone_number = input(\"Enter your phone #: \")\n",
    "\n",
    "length = len(name)\n",
    "index = name.find(\" \")\n",
    "name1 = name.capitalize()\n",
    "name2 = name.upper()\n",
    "name3 = name.lower()\n",
    "result1 = name.isdigit()\n",
    "result2 = name.isalpha()\n",
    "result3 = phone_number.count(\" \")\n",
    "phone_number = phone_number.replace(\"-\", \"\")\n",
    "print(length)\n",
    "print(index)\n",
    "print(name1)\n",
    "print(name2)\n",
    "print(name3)\n",
    "print(result1)\n",
    "print(result2)\n",
    "print(result3)\n",
    "print(phone_number)"
   ]
  },
  {
   "cell_type": "code",
   "execution_count": 52,
   "id": "e5f5b6c5",
   "metadata": {},
   "outputs": [
    {
     "name": "stdout",
     "output_type": "stream",
     "text": [
      "Enter your name: Rwezamenyo\n",
      "6\n"
     ]
    }
   ],
   "source": [
    "# to find the last occurrence in a string(Reverse find)\n",
    "surname = input(\"Enter your name: \")\n",
    "print(surname.rfind(\"e\"))"
   ]
  },
  {
   "cell_type": "code",
   "execution_count": 54,
   "id": "29ef7fc4",
   "metadata": {},
   "outputs": [
    {
     "name": "stdout",
     "output_type": "stream",
     "text": [
      "True\n"
     ]
    }
   ],
   "source": [
    "namee = \"scharachers\"\n",
    "checks = namee.isalpha()# if a string contains only alphabetical characters\n",
    "print(checks)"
   ]
  },
  {
   "cell_type": "code",
   "execution_count": 55,
   "id": "7fd8f88d",
   "metadata": {},
   "outputs": [
    {
     "name": "stdout",
     "output_type": "stream",
     "text": [
      "False\n"
     ]
    }
   ],
   "source": [
    "checks2 =namee.isdigit()#if a string contains only digits\n",
    "print(checks2)"
   ]
  },
  {
   "cell_type": "code",
   "execution_count": 61,
   "id": "5234f279",
   "metadata": {},
   "outputs": [
    {
     "name": "stdout",
     "output_type": "stream",
     "text": [
      "False\n",
      "False\n",
      "True\n",
      "=====SPACE==================\n",
      "False\n",
      "True\n"
     ]
    }
   ],
   "source": [
    "namee2 =\" amafa1234\"\n",
    "print(namee2.isalpha())\n",
    "print(namee2.isdigit())\n",
    "print(\"1234\".isdigit())\n",
    "print(\"=====SPACE==================\")\n",
    "# Space\n",
    "space =\"full name\"\n",
    "nospace = \"fullname\"\n",
    "\n",
    "print(space.isalpha())\n",
    "print(nospace.isalpha())"
   ]
  },
  {
   "cell_type": "code",
   "execution_count": 63,
   "id": "72550310",
   "metadata": {},
   "outputs": [
    {
     "data": {
      "text/plain": [
       "3"
      ]
     },
     "execution_count": 63,
     "metadata": {},
     "output_type": "execute_result"
    }
   ],
   "source": [
    "# Counting the number of specific characters i9n a string\n",
    "\n",
    "phone_number = \"1-234-8798-987\"\n",
    "\n",
    "count_result = phone_number.count(\"-\")\n",
    "\n",
    "count_result"
   ]
  },
  {
   "cell_type": "code",
   "execution_count": null,
   "id": "d6ab59f0",
   "metadata": {},
   "outputs": [],
   "source": [
    "#This exercise\n",
    "# Validate user inputexercise\n",
    "# 1. username is no more than 12 characters\n",
    "# 2.username must not contain spaces\n",
    "# 3.username must not contain digits\n",
    "\n",
    "\n",
    "username = input(\"Enter username: \")\n",
    "if len(username) >12:\n",
    "    print(\"Your username can't be more than 12 characters\")\n",
    "elif not username.find(\" \") == -1: # -1 means, you find no such character\n",
    "    print(\"Your username can't contain spaces\")\n",
    "    \n",
    "elif not username.isalpha():\n",
    "    print(\"Your username can't contain numbers\")\n",
    "else:\n",
    "    print(f\"Welcome {username}\")"
   ]
  },
  {
   "cell_type": "code",
   "execution_count": null,
   "id": "416d45bc",
   "metadata": {},
   "outputs": [],
   "source": [
    "endless"
   ]
  },
  {
   "cell_type": "code",
   "execution_count": null,
   "id": "0d99c35d",
   "metadata": {},
   "outputs": [],
   "source": []
  },
  {
   "cell_type": "code",
   "execution_count": null,
   "id": "d9a8a7ac",
   "metadata": {},
   "outputs": [],
   "source": []
  },
  {
   "cell_type": "code",
   "execution_count": null,
   "id": "fb3d8d14",
   "metadata": {},
   "outputs": [],
   "source": []
  },
  {
   "cell_type": "code",
   "execution_count": null,
   "id": "f925757a",
   "metadata": {},
   "outputs": [],
   "source": []
  },
  {
   "cell_type": "code",
   "execution_count": null,
   "id": "deb6efa2",
   "metadata": {},
   "outputs": [],
   "source": []
  },
  {
   "cell_type": "code",
   "execution_count": null,
   "id": "c7adf265",
   "metadata": {},
   "outputs": [],
   "source": []
  },
  {
   "cell_type": "code",
   "execution_count": null,
   "id": "ccf6f937",
   "metadata": {},
   "outputs": [],
   "source": []
  }
 ],
 "metadata": {
  "kernelspec": {
   "display_name": "Python 3 (ipykernel)",
   "language": "python",
   "name": "python3"
  },
  "language_info": {
   "codemirror_mode": {
    "name": "ipython",
    "version": 3
   },
   "file_extension": ".py",
   "mimetype": "text/x-python",
   "name": "python",
   "nbconvert_exporter": "python",
   "pygments_lexer": "ipython3",
   "version": "3.11.5"
  }
 },
 "nbformat": 4,
 "nbformat_minor": 5
}
